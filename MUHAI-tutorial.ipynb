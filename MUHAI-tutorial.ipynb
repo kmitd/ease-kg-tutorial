{
 "cells": [
  {
   "cell_type": "markdown",
   "metadata": {},
   "source": [
    "# MUHAI Kickoff - Knowledge Graphs tutorial\n",
    "\n",
    "In this tutorial, we will learn the basics of interacting with knowledge graphs, i.e.:\n",
    " - modeling data\n",
    " - creating data with Python RDFlib\n",
    " - creating SPARQL services on top of KGs\n",
    " \n",
    " Cfr. slides [https://tinyurl.com/muhai2020](https://tinyurl.com/muhai2020)"
   ]
  },
  {
   "cell_type": "markdown",
   "metadata": {},
   "source": [
    "***************\n",
    "\n",
    "# Part 1 - Data Modeling\n",
    "\n",
    "\n",
    "Choose a domain related to robots, e.g. ```navigation```, ```perception```, ```vision```, ```manipulation```…\n",
    "\n",
    "1. what are the types and their hierarchy ( _classes_ )?\n",
    "2. what are the relations and their types ( _domain, range_ )?\n",
    "3. give a set of objects with their types and relations ( _instances_ )?\n",
    "\n",
    "Draw the graph by hand  \n",
    "\n"
   ]
  },
  {
   "cell_type": "markdown",
   "metadata": {},
   "source": [
    "**********\n",
    "\n",
    "# Part 2 - RDFlib \n",
    "\n",
    "rdflib is a widely used Python library for RDF (all documentation can be found [here](https://rdflib.readthedocs.io/en/stable/index.html))\n",
    "\n",
    "To install RDFlib, run `pip3 install rdflib` in your terminal"
   ]
  },
  {
   "cell_type": "code",
   "execution_count": 21,
   "metadata": {},
   "outputs": [],
   "source": [
    "# Imports\n",
    "# These are the main classes and types we will be using from rdflib\n",
    "from rdflib import Graph, Literal, Namespace, RDF, URIRef\n",
    "from rdflib.namespace import RDF, RDFS"
   ]
  },
  {
   "cell_type": "markdown",
   "metadata": {},
   "source": [
    "#### Create an empty graph"
   ]
  },
  {
   "cell_type": "code",
   "execution_count": 22,
   "metadata": {
    "scrolled": false
   },
   "outputs": [
    {
     "name": "stdout",
     "output_type": "stream",
     "text": [
      "Graph is empty\n"
     ]
    }
   ],
   "source": [
    "#A Graph object is always required to load triples\n",
    "\n",
    "g = Graph() # an empty graph\n",
    "\n",
    "if len(g) == 0 :\n",
    "    print(\"Graph is empty\")\n",
    "else :\n",
    "    print (\"Graph has %s statements.\" % len(g))"
   ]
  },
  {
   "cell_type": "markdown",
   "metadata": {},
   "source": [
    "\n",
    "#### Create RDF triples\n",
    "\n",
    "Triples are added to the graph with the function Graph.add(), with a Python **tuple** (subject, predicate, object) given as parameter.\n",
    "\n",
    "Notice the namespace convenience syntax!"
   ]
  },
  {
   "cell_type": "code",
   "execution_count": 23,
   "metadata": {},
   "outputs": [],
   "source": [
    "# We will now create an entity and some characteristics\n",
    "\n",
    "# create a namespace and a prefix, then bind it to the graph \n",
    "rec = Namespace(\"http://example.org/recipe/\")\n",
    "g.bind(\"rc\", rec)\n",
    "\n",
    "\n",
    "# let's create 2 new items:\n",
    "# 1st item\n",
    "flour = URIRef(\"http://example.org/recipe/flour\") \n",
    "\n",
    "# 2nd item, defined in another way\n",
    "bowl = rec.bowl # equivalent to : URIRef(\"http://example.org/recipe/bowl\") \n",
    "\n",
    "# linking the two items (a bowl can contain flour )\n",
    "g.add( (bowl, rec.contains, flour) )\n",
    "\n",
    "# let's create triples with literal values, e.g. names \n",
    "g.add( (flour, RDFS.label, Literal(\"Plain Flour\", lang=\"en\")) )\n",
    "g.add( (flour, RDFS.label, Literal(\"Farine de blé\", lang=\"fr\")) )  # same name in french\n",
    "g.add( (bowl, RDFS.label, Literal(\"Round Bowl\", lang=\"en\")) )\n",
    "\n",
    "# let's give the bowl a shape\n",
    "g.add( (bowl, rec.size, Literal('Large', lang='en')) ) # a bowl that is large\n",
    "\n",
    "# it works with numeric values too\n",
    "g.add( (flour, rec.weight, Literal(250)) ) # for pancakes we need 250gr of flour"
   ]
  },
  {
   "cell_type": "code",
   "execution_count": 24,
   "metadata": {
    "scrolled": true
   },
   "outputs": [
    {
     "name": "stdout",
     "output_type": "stream",
     "text": [
      "http://example.org/recipe/bowl http://example.org/recipe/contains http://example.org/recipe/flour\n",
      "http://example.org/recipe/bowl http://example.org/recipe/size Large\n",
      "http://example.org/recipe/bowl http://www.w3.org/2000/01/rdf-schema#label Round Bowl\n",
      "http://example.org/recipe/flour http://example.org/recipe/weight 250\n",
      "http://example.org/recipe/flour http://www.w3.org/2000/01/rdf-schema#label Plain Flour\n",
      "http://example.org/recipe/flour http://www.w3.org/2000/01/rdf-schema#label Farine de blé\n"
     ]
    }
   ],
   "source": [
    "# show the graph (sorted alphabetically)\n",
    "\n",
    "for (s,p,o) in sorted(g): \n",
    "    print(s,p,o)"
   ]
  },
  {
   "cell_type": "markdown",
   "metadata": {},
   "source": [
    "#### Adding a bit of semantics\n",
    "\n",
    "There is not much of semantics in the above graph. \n",
    "\n",
    "We can add semantics using special terms :  ```RDF.type```, ```RDFS:subClassOf``` and ```RDFS:domain```/```RDFS:range```. "
   ]
  },
  {
   "cell_type": "code",
   "execution_count": 25,
   "metadata": {
    "scrolled": true
   },
   "outputs": [
    {
     "name": "stdout",
     "output_type": "stream",
     "text": [
      "http://example.org/recipe/Container http://www.w3.org/2000/01/rdf-schema#subClassOf http://example.org/recipe/RecipeComponent\n",
      "http://example.org/recipe/Ingredient http://www.w3.org/2000/01/rdf-schema#subClassOf http://example.org/recipe/RecipeComponent\n",
      "http://example.org/recipe/bowl http://example.org/recipe/contains http://example.org/recipe/flour\n",
      "http://example.org/recipe/bowl http://example.org/recipe/size Large\n",
      "http://example.org/recipe/bowl http://www.w3.org/1999/02/22-rdf-syntax-ns#type http://example.org/recipe/Container\n",
      "http://example.org/recipe/bowl http://www.w3.org/2000/01/rdf-schema#label Round Bowl\n",
      "http://example.org/recipe/contains http://www.w3.org/2000/01/rdf-schema#domain http://example.org/recipe/Container\n",
      "http://example.org/recipe/contains http://www.w3.org/2000/01/rdf-schema#range http://example.org/recipe/Ingredient\n",
      "http://example.org/recipe/flour http://example.org/recipe/weight 250\n",
      "http://example.org/recipe/flour http://www.w3.org/1999/02/22-rdf-syntax-ns#type http://example.org/recipe/Ingredient\n",
      "http://example.org/recipe/flour http://www.w3.org/2000/01/rdf-schema#label Plain Flour\n",
      "http://example.org/recipe/flour http://www.w3.org/2000/01/rdf-schema#label Farine de blé\n",
      "http://example.org/recipe/size http://www.w3.org/2000/01/rdf-schema#domain http://example.org/recipe/Container\n",
      "http://example.org/recipe/size http://www.w3.org/2000/01/rdf-schema#range http://www.w3.org/2000/01/rdf-schema#Literal\n",
      "http://example.org/recipe/weight http://www.w3.org/2000/01/rdf-schema#domain http://example.org/recipe/Ingredient\n",
      "http://example.org/recipe/weight http://www.w3.org/2000/01/rdf-schema#range http://www.w3.org/2000/01/rdf-schema#Literal\n"
     ]
    }
   ],
   "source": [
    "## let's give items a type (a class)\n",
    "g.add( (flour, RDF.type, rec.Ingredient ) )\n",
    "g.add( (bowl, RDF.type, rec.Container ))\n",
    "\n",
    "# specify hierarchy for classes\n",
    "g.add((rec.Ingredient, RDFS.subClassOf, rec.RecipeComponent))\n",
    "g.add((rec.Container, RDFS.subClassOf, rec.RecipeComponent))\n",
    "\n",
    "# domain and ranges for properties\n",
    "g.add((rec.contains, RDFS.domain, rec.Container))\n",
    "g.add((rec.contains, RDFS.range, rec.Ingredient))\n",
    "\n",
    "g.add((rec.weight, RDFS.domain, rec.Ingredient)) # in our world, only ingredients have a weight (grams needed for the recipe)\n",
    "g.add((rec.weight, RDFS.range, RDFS.Literal)) # RDFS.Literal = includes strings and numericals\n",
    "\n",
    "g.add((rec.size, RDFS.domain, rec.Container)) # in our world, only containers have size (small/large etc)\n",
    "g.add((rec.size, RDFS.range, RDFS.Literal)) \n",
    "\n",
    "\n",
    "for (s,p,o) in sorted(g): \n",
    "    print(s,p,o)\n"
   ]
  },
  {
   "cell_type": "markdown",
   "metadata": {},
   "source": [
    "#### Let's add more ingredients"
   ]
  },
  {
   "cell_type": "code",
   "execution_count": 26,
   "metadata": {},
   "outputs": [],
   "source": [
    "### for a Dutch pancake, we need extra ingredients (~instances)\n",
    "\n",
    "## to go faster, we can add the triples directly\n",
    "g.add((rec.salt, RDF.type, rec.Ingredient))  \n",
    "g.add((rec.vanilla_sugar , RDF.type , rec.Ingredient))\n",
    "g.add((rec.cinnamon, RDF.type, rec.Ingredient)) \n",
    "g.add((rec.egg, RDF.type, rec.Ingredient))\n",
    "g.add((rec.milk, RDF.type, rec.Ingredient))\n",
    "g.add((rec.butter, RDF.type, rec.Ingredient))\n",
    "\n",
    "## we also need additional containers (for milk, pouring etc...) \n",
    "g.add((rec.cup, RDF.type, rec.Container))\n",
    "g.add((rec.teaspoon, RDF.type, rec.Container))\n",
    "g.add((rec.cup, RDF.type, rec.Container))\n",
    "\n",
    "## and some tools \n",
    "g.add((rec.whisker, RDF.type, rec.RecipeTool))\n",
    "g.add((rec.fryingpan, RDF.type, rec.RecipeTool))\n",
    "g.add((rec.spatula, RDF.type, rec.RecipeTool))\n",
    "\n",
    "## since we do not have RecipeTool in our world, let's add it to the hierarchy\n",
    "g.add((rec.RepiceTool, RDFS.subClassOf, rec.RecipeComponent))"
   ]
  },
  {
   "cell_type": "code",
   "execution_count": 27,
   "metadata": {},
   "outputs": [],
   "source": [
    "# let's add some more characteristics\n",
    "\n",
    "# how much of these ingredients we need?\n",
    "g.add((rec.salt, rec.weight, Literal(2))) # two grams ~= a pinch\n",
    "g.add((rec.egg, rec.weight, Literal(150))) # two eggs ~= 150 grams\n",
    "g.add((rec.milk, rec.weight, Literal(500))) # 500 ml ~= 500 grams\n",
    "g.add((rec.cinnamon, rec.weight, Literal(5))) # 1/2 teaspoon ~= 5 grams\n",
    "g.add((rec.vanilla_sugar, rec.weight, Literal(20))) # 2 teaspoon ~= 20 grams\n",
    "g.add((rec.butter, rec.weight, Literal(20))) #  20 grams for the pan\n",
    "\n",
    "# size of containers (remember : in our world only RecipeContainers have a size)\n",
    "g.add((rec.teaspoon, rec.size, Literal('Small')))\n",
    "g.add((rec.cup, rec.size, Literal('Medium')))\n",
    "\n",
    "# some of the ingredients are optional\n",
    "g.add((rec.cinnamon, rec.optionalIngredient, Literal(True)))\n",
    "g.add((rec.vanilla_sugar, rec.optionalIngredient, Literal(True)))\n",
    "\n",
    "# how do we handle ingredients\n",
    "g.add((rec.teaspoon, rec.contains, rec.cinnamon))\n",
    "g.add((rec.teaspoon, rec.contains, rec.vanilla_sugar))\n",
    "g.add((rec.teaspoon, rec.contains, rec.salt))\n",
    "\n",
    "g.add((rec.bowl, rec.contains, rec.milk))\n",
    "g.add((rec.bowl, rec.contains, rec.egg))\n",
    "g.add((rec.bowl, rec.contains, rec.milk))\n",
    "\n",
    "g.add((rec.spatula, rec.spreads, rec.butter))\n",
    "g.add((rec.spatula, rec.spreadOn, rec.fryingpan))"
   ]
  },
  {
   "cell_type": "markdown",
   "metadata": {},
   "source": [
    "#### Save my file"
   ]
  },
  {
   "cell_type": "code",
   "execution_count": 28,
   "metadata": {
    "scrolled": true
   },
   "outputs": [],
   "source": [
    "g.serialize(destination='myrecipe.ttl' , format=\"turtle\") # also pretty-xml, n3, rdf/xml ..."
   ]
  },
  {
   "cell_type": "markdown",
   "metadata": {},
   "source": [
    "#### See my graph\n",
    "\n",
    "You can visualise the graph using this service: http://www.ldf.fi/service/rdf-grapher"
   ]
  },
  {
   "cell_type": "markdown",
   "metadata": {},
   "source": [
    "# Your turn\n",
    "\n",
    "Create a graph of at least 30 triples (and at least 5 classes/instances) based on the domain you chose earlier. \n",
    "* Define types and hierarchies\n",
    "* Define domain and ranges\n",
    "* Define some instances\n",
    "\n",
    "Compare your drawing with the online one!"
   ]
  },
  {
   "cell_type": "markdown",
   "metadata": {},
   "source": [
    "*************\n",
    "\n",
    "# Part 3 - Querying with SPARQL \n",
    "\n",
    "1. Load your dataset to <https://krr.triply.cc/muhai> \n",
    "    * Add your description\n",
    "    * Do not forget to set the dataset to *public*\n",
    "\n",
    "\n",
    "2. See your entities using the [`Browser`](https://krr.triply.cc/EASE-fall-school/robots-test/browser?resource=http%3A%2F%2Fexample.org%2Frobots%2FTurtleBot1&direction=forward) tab\n",
    "\n",
    "\n",
    "3. Check your triples in the [`Table`](https://krr.triply.cc/EASE-fall-school/robots-test/table) tab\n",
    "    * You can create custom prefixes by double-clicking on the prefix\n",
    "\n",
    "\n",
    "4. Activate a SPARQL service in [`Services`](https://krr.triply.cc/EASE-fall-school/robots-test/services)\n",
    "\n",
    "\n",
    "5. Try running few SPARQL queries \n",
    "    * How many classes?\n",
    "    * How many properties?\n",
    "    * Can you plot classes by number of instances?\n"
   ]
  },
  {
   "cell_type": "markdown",
   "metadata": {},
   "source": [
    "**************\n",
    "\n",
    "# Additional material (not mandatory)\n",
    "\n",
    "### Querying thourgh basic triple matching\n",
    "\n",
    "We use method Graph.triples and a Python tuple that acts as a mask for specifying our criteria"
   ]
  },
  {
   "cell_type": "code",
   "execution_count": 29,
   "metadata": {
    "scrolled": true
   },
   "outputs": [
    {
     "name": "stdout",
     "output_type": "stream",
     "text": [
      "--- printing raw triples ---\n",
      "http://example.org/recipe/Container http://www.w3.org/2000/01/rdf-schema#subClassOf http://example.org/recipe/RecipeComponent\n",
      "http://example.org/recipe/Ingredient http://www.w3.org/2000/01/rdf-schema#subClassOf http://example.org/recipe/RecipeComponent\n",
      "http://example.org/recipe/RepiceTool http://www.w3.org/2000/01/rdf-schema#subClassOf http://example.org/recipe/RecipeComponent\n",
      "http://example.org/recipe/bowl http://example.org/recipe/contains http://example.org/recipe/egg\n",
      "http://example.org/recipe/bowl http://example.org/recipe/contains http://example.org/recipe/flour\n",
      "http://example.org/recipe/bowl http://example.org/recipe/contains http://example.org/recipe/milk\n",
      "http://example.org/recipe/bowl http://example.org/recipe/size Large\n",
      "http://example.org/recipe/bowl http://www.w3.org/1999/02/22-rdf-syntax-ns#type http://example.org/recipe/Container\n",
      "http://example.org/recipe/bowl http://www.w3.org/2000/01/rdf-schema#label Round Bowl\n",
      "http://example.org/recipe/butter http://example.org/recipe/weight 20\n",
      "http://example.org/recipe/butter http://www.w3.org/1999/02/22-rdf-syntax-ns#type http://example.org/recipe/Ingredient\n",
      "http://example.org/recipe/cinnamon http://example.org/recipe/optionalIngredient true\n",
      "http://example.org/recipe/cinnamon http://example.org/recipe/weight 5\n",
      "http://example.org/recipe/cinnamon http://www.w3.org/1999/02/22-rdf-syntax-ns#type http://example.org/recipe/Ingredient\n",
      "http://example.org/recipe/contains http://www.w3.org/2000/01/rdf-schema#domain http://example.org/recipe/Container\n",
      "http://example.org/recipe/contains http://www.w3.org/2000/01/rdf-schema#range http://example.org/recipe/Ingredient\n",
      "http://example.org/recipe/cup http://example.org/recipe/size Medium\n",
      "http://example.org/recipe/cup http://www.w3.org/1999/02/22-rdf-syntax-ns#type http://example.org/recipe/Container\n",
      "http://example.org/recipe/egg http://example.org/recipe/weight 150\n",
      "http://example.org/recipe/egg http://www.w3.org/1999/02/22-rdf-syntax-ns#type http://example.org/recipe/Ingredient\n",
      "http://example.org/recipe/flour http://example.org/recipe/weight 250\n",
      "http://example.org/recipe/flour http://www.w3.org/1999/02/22-rdf-syntax-ns#type http://example.org/recipe/Ingredient\n",
      "http://example.org/recipe/flour http://www.w3.org/2000/01/rdf-schema#label Plain Flour\n",
      "http://example.org/recipe/flour http://www.w3.org/2000/01/rdf-schema#label Farine de blé\n",
      "http://example.org/recipe/fryingpan http://www.w3.org/1999/02/22-rdf-syntax-ns#type http://example.org/recipe/RecipeTool\n",
      "http://example.org/recipe/milk http://example.org/recipe/weight 500\n",
      "http://example.org/recipe/milk http://www.w3.org/1999/02/22-rdf-syntax-ns#type http://example.org/recipe/Ingredient\n",
      "http://example.org/recipe/salt http://example.org/recipe/weight 2\n",
      "http://example.org/recipe/salt http://www.w3.org/1999/02/22-rdf-syntax-ns#type http://example.org/recipe/Ingredient\n",
      "http://example.org/recipe/size http://www.w3.org/2000/01/rdf-schema#domain http://example.org/recipe/Container\n",
      "http://example.org/recipe/size http://www.w3.org/2000/01/rdf-schema#range http://www.w3.org/2000/01/rdf-schema#Literal\n",
      "http://example.org/recipe/spatula http://example.org/recipe/spreadOn http://example.org/recipe/fryingpan\n",
      "http://example.org/recipe/spatula http://example.org/recipe/spreads http://example.org/recipe/butter\n",
      "http://example.org/recipe/spatula http://www.w3.org/1999/02/22-rdf-syntax-ns#type http://example.org/recipe/RecipeTool\n",
      "http://example.org/recipe/teaspoon http://example.org/recipe/contains http://example.org/recipe/cinnamon\n",
      "http://example.org/recipe/teaspoon http://example.org/recipe/contains http://example.org/recipe/salt\n",
      "http://example.org/recipe/teaspoon http://example.org/recipe/contains http://example.org/recipe/vanilla_sugar\n",
      "http://example.org/recipe/teaspoon http://example.org/recipe/size Small\n",
      "http://example.org/recipe/teaspoon http://www.w3.org/1999/02/22-rdf-syntax-ns#type http://example.org/recipe/Container\n",
      "http://example.org/recipe/vanilla_sugar http://example.org/recipe/optionalIngredient true\n",
      "http://example.org/recipe/vanilla_sugar http://example.org/recipe/weight 20\n",
      "http://example.org/recipe/vanilla_sugar http://www.w3.org/1999/02/22-rdf-syntax-ns#type http://example.org/recipe/Ingredient\n",
      "http://example.org/recipe/weight http://www.w3.org/2000/01/rdf-schema#domain http://example.org/recipe/Ingredient\n",
      "http://example.org/recipe/weight http://www.w3.org/2000/01/rdf-schema#range http://www.w3.org/2000/01/rdf-schema#Literal\n",
      "http://example.org/recipe/whisker http://www.w3.org/1999/02/22-rdf-syntax-ns#type http://example.org/recipe/RecipeTool\n"
     ]
    }
   ],
   "source": [
    "# Printing subjects, predicates and objects out of the tuple omits Python datatypes\n",
    "print(\"--- printing raw triples ---\")\n",
    "for s, p, o in sorted(g):\n",
    "    print(s, p, o)"
   ]
  },
  {
   "cell_type": "code",
   "execution_count": 30,
   "metadata": {},
   "outputs": [
    {
     "name": "stdout",
     "output_type": "stream",
     "text": [
      "PRINTING SUBJECTS\n",
      "http://example.org/recipe/Ingredient\n",
      "http://example.org/recipe/flour\n",
      "http://example.org/recipe/contains\n",
      "http://example.org/recipe/vanilla_sugar\n",
      "http://example.org/recipe/bowl\n",
      "http://example.org/recipe/teaspoon\n",
      "http://example.org/recipe/whisker\n",
      "http://example.org/recipe/butter\n",
      "http://example.org/recipe/fryingpan\n",
      "http://example.org/recipe/salt\n",
      "http://example.org/recipe/weight\n",
      "http://example.org/recipe/milk\n",
      "http://example.org/recipe/size\n",
      "http://example.org/recipe/RepiceTool\n",
      "http://example.org/recipe/Container\n",
      "http://example.org/recipe/spatula\n",
      "http://example.org/recipe/cinnamon\n",
      "http://example.org/recipe/cup\n",
      "http://example.org/recipe/egg\n"
     ]
    }
   ],
   "source": [
    "# subjects only\n",
    "print(\"PRINTING SUBJECTS\")\n",
    "for s in set(g.subjects()):\n",
    "    print(s)"
   ]
  },
  {
   "cell_type": "code",
   "execution_count": 31,
   "metadata": {},
   "outputs": [
    {
     "name": "stdout",
     "output_type": "stream",
     "text": [
      "PRINTING PREDICATES\n",
      "http://example.org/recipe/optionalIngredient\n",
      "http://example.org/recipe/spreads\n",
      "http://example.org/recipe/spreadOn\n",
      "http://example.org/recipe/size\n",
      "http://www.w3.org/2000/01/rdf-schema#label\n",
      "http://www.w3.org/2000/01/rdf-schema#range\n",
      "http://www.w3.org/2000/01/rdf-schema#subClassOf\n",
      "http://www.w3.org/1999/02/22-rdf-syntax-ns#type\n",
      "http://example.org/recipe/contains\n",
      "http://example.org/recipe/weight\n",
      "http://www.w3.org/2000/01/rdf-schema#domain\n"
     ]
    }
   ],
   "source": [
    "# predicates only\n",
    "print(\"PRINTING PREDICATES\")\n",
    "for p in set(g.predicates()):\n",
    "    print(p)"
   ]
  },
  {
   "cell_type": "code",
   "execution_count": 32,
   "metadata": {
    "scrolled": true
   },
   "outputs": [
    {
     "name": "stdout",
     "output_type": "stream",
     "text": [
      "PRINTING OBJECTS\n",
      "http://www.w3.org/2000/01/rdf-schema#Literal\n",
      "http://example.org/recipe/Ingredient\n",
      "Farine de blé\n",
      "Plain Flour\n",
      "http://example.org/recipe/flour\n",
      "Round Bowl\n",
      "http://example.org/recipe/vanilla_sugar\n",
      "true\n",
      "5\n",
      "150\n",
      "http://example.org/recipe/butter\n",
      "http://example.org/recipe/RecipeComponent\n",
      "20\n",
      "http://example.org/recipe/fryingpan\n",
      "http://example.org/recipe/salt\n",
      "http://example.org/recipe/milk\n",
      "Large\n",
      "Medium\n",
      "500\n",
      "http://example.org/recipe/Container\n",
      "http://example.org/recipe/cinnamon\n",
      "http://example.org/recipe/RecipeTool\n",
      "250\n",
      "Small\n",
      "http://example.org/recipe/egg\n",
      "2\n"
     ]
    }
   ],
   "source": [
    "# objects only\n",
    "print(\"PRINTING OBJECTS\")\n",
    "for o in set(g.objects()):\n",
    "    print(o)"
   ]
  },
  {
   "cell_type": "code",
   "execution_count": 33,
   "metadata": {
    "scrolled": true
   },
   "outputs": [
    {
     "name": "stdout",
     "output_type": "stream",
     "text": [
      "--- printing resources with a weight ---\n",
      "http://example.org/recipe/egg\n",
      "http://example.org/recipe/butter\n",
      "http://example.org/recipe/salt\n",
      "http://example.org/recipe/vanilla_sugar\n",
      "http://example.org/recipe/milk\n",
      "http://example.org/recipe/cinnamon\n",
      "http://example.org/recipe/flour\n"
     ]
    }
   ],
   "source": [
    "# print things that have weight\n",
    "print(\"--- printing resources with a weight ---\")\n",
    "for (s,p,o) in g.triples((None, rec.weight, None)):\n",
    "    print(s) "
   ]
  },
  {
   "cell_type": "code",
   "execution_count": 34,
   "metadata": {
    "scrolled": true
   },
   "outputs": [
    {
     "name": "stdout",
     "output_type": "stream",
     "text": [
      "--- printing properties of flour ---\n",
      "http://www.w3.org/2000/01/rdf-schema#label\n",
      "http://www.w3.org/1999/02/22-rdf-syntax-ns#type\n",
      "http://www.w3.org/2000/01/rdf-schema#label\n",
      "http://example.org/recipe/weight\n"
     ]
    }
   ],
   "source": [
    "print(\"--- printing properties of flour ---\")\n",
    "for (s,p,o) in g.triples((flour, None, None)):\n",
    "    print(p) "
   ]
  },
  {
   "cell_type": "code",
   "execution_count": 35,
   "metadata": {
    "scrolled": true
   },
   "outputs": [
    {
     "name": "stdout",
     "output_type": "stream",
     "text": [
      "--- printing relationship between flour and bowl ---\n",
      "http://example.org/recipe/contains\n"
     ]
    }
   ],
   "source": [
    "print(\"--- printing relationship between flour and bowl ---\")\n",
    "for (s,p,o) in g.triples((bowl, None, flour)):\n",
    "    print(p) "
   ]
  },
  {
   "cell_type": "code",
   "execution_count": 36,
   "metadata": {},
   "outputs": [
    {
     "name": "stdout",
     "output_type": "stream",
     "text": [
      "http://example.org/recipe/bowl http://example.org/recipe/Container\n",
      "http://example.org/recipe/vanilla_sugar http://example.org/recipe/Ingredient\n",
      "http://example.org/recipe/cup http://example.org/recipe/Container\n",
      "http://example.org/recipe/whisker http://example.org/recipe/RecipeTool\n",
      "http://example.org/recipe/fryingpan http://example.org/recipe/RecipeTool\n",
      "http://example.org/recipe/egg http://example.org/recipe/Ingredient\n",
      "http://example.org/recipe/salt http://example.org/recipe/Ingredient\n",
      "http://example.org/recipe/spatula http://example.org/recipe/RecipeTool\n",
      "http://example.org/recipe/cinnamon http://example.org/recipe/Ingredient\n",
      "http://example.org/recipe/teaspoon http://example.org/recipe/Container\n",
      "http://example.org/recipe/milk http://example.org/recipe/Ingredient\n",
      "http://example.org/recipe/flour http://example.org/recipe/Ingredient\n",
      "http://example.org/recipe/butter http://example.org/recipe/Ingredient\n"
     ]
    }
   ],
   "source": [
    "#everything that has a type, and its type\n",
    "for s,p,o in g.triples( (None, RDF.type, None) ):\n",
    "    print(s,o)"
   ]
  },
  {
   "cell_type": "markdown",
   "metadata": {},
   "source": [
    "## Loading data from files\n",
    "\n",
    "rdflib accepts importing RDF data from a variety of sources, either locally from a file (including an extensive support of serializations), or remotely via a URI (this is a great way of checking practically if URIs return RDF according to the 3rd Linked Data principle)."
   ]
  },
  {
   "cell_type": "code",
   "execution_count": 40,
   "metadata": {
    "scrolled": true
   },
   "outputs": [
    {
     "name": "stdout",
     "output_type": "stream",
     "text": [
      "20\n"
     ]
    }
   ],
   "source": [
    "# Add triples to your graph\n",
    "f = Graph()\n",
    "\n",
    "f.parse(\"got.ttl\", format=\"ttl\")\n",
    "\n",
    "print(len(f)) # prints number of triples in the graph "
   ]
  },
  {
   "cell_type": "code",
   "execution_count": 41,
   "metadata": {},
   "outputs": [
    {
     "name": "stdout",
     "output_type": "stream",
     "text": [
      "http://dbpedia.org/resource/Arya_Stark http://dbpedia.org/ontology/relative http://dbpedia.org/resource/Jon_Snow_(character)\n",
      "http://dbpedia.org/resource/Bran_Stark http://dbpedia.org/ontology/relative http://dbpedia.org/resource/Jon_Snow_(character)\n",
      "http://dbpedia.org/resource/Daenerys_Targaryen http://dbpedia.org/ontology/relative http://dbpedia.org/resource/Jon_Snow_(character)\n",
      "http://dbpedia.org/resource/Jaehaerys_II_Targaryen http://dbpedia.org/ontology/wikiPageRedirects http://dbpedia.org/resource/Jon_Snow_(character)\n",
      "http://dbpedia.org/resource/Jon_Snow http://dbpedia.org/ontology/wikiPageDisambiguates http://dbpedia.org/resource/Jon_Snow_(character)\n",
      "http://dbpedia.org/resource/Jon_Snow_(A_Song_of_Ice_and_Fire) http://dbpedia.org/ontology/wikiPageRedirects http://dbpedia.org/resource/Jon_Snow_(character)\n",
      "http://dbpedia.org/resource/Jon_Snow_(Game_of_Thrones) http://dbpedia.org/ontology/wikiPageRedirects http://dbpedia.org/resource/Jon_Snow_(character)\n",
      "http://dbpedia.org/resource/Jon_Snow_(character) http://dbpedia.org/ontology/abstract جون سنو هو شخصية خيالية من سلسلة روايات الفنتازيا أغنية الجليد والنار للكاتب الأمريكي جورج ر. ر. مارتن والمسلسل التلفزيوني المستند عليها صراع العروش. هو شخصية بارزة في القصة واعتبر أحد \"أروع الإبداعات\" والشخصية الأكثر شعبية للمؤلف من قبل صحيفة نيويورك تايمز. ظهر للمرة الأولى في لعبة العروش في سنة 1996 كابن غير شرعي لنيد ستارك لورد \"وينترفيل\" وهي قلعة قديمة في شمال مملكة خيالية تدعى ويستروس.\n",
      "http://dbpedia.org/resource/Jon_Snow_(character) http://dbpedia.org/ontology/abstract Jon Snow is a fictional character in the A Song of Ice and Fire series of fantasy novels by American author George R. R. Martin, and its television adaptation Game of Thrones. He is a prominent point of view character in the novels, and has been called one of the author's \"finest creations\" and most popular characters by The New York Times. Jon is a main character in the TV series, and his storyline in the 2015 season 5 finale generated a strong reaction among viewers. Speculation about the character's parentage has also been a popular topic of discussion among fans of both the books and the TV series. Jon is introduced in 1996's A Game of Thrones as the illegitimate son of Ned Stark, the honorable lord of Winterfell, an ancient fortress in the North of the fictional kingdom of Westeros. Knowing his prospects are limited by his status, Jon joins the Night's Watch, who guard the far northern borders from the wildlings who live beyond The Wall. As the rest of the Starks face grave adversity, Jon finds himself honor bound to remain with the Watch. In A Clash of Kings (1998), he joins a scouting party investigating the growing threat from the otherworldly \"Others\" beyond the Wall, and manages to infiltrate the wildlings. Jon learns of their plans to invade Westeros in A Storm of Swords (2000), and begins to fall in love with the fierce wildling woman Ygritte. He betrays them—and Ygritte—before they can attack, but the Night Watch's victory comes at a heavy price for Jon. Now the Lord Commander of the Watch, he appears briefly in 2005's A Feast for Crows. Jon returns as a prominent character in a A Dance with Dragons (2011), working to negotiate an alliance between the Night's Watch and the wildlings. The growing animosity he has attracted from among the Watch finally catches up with him, and he is forced to face the dire consequences. Jon is portrayed by Kit Harington on the HBO series Game of Thrones. His storyline follows the character's plot arc from the novel series, though season 6 of the TV adaptation continued on from the events of Martin's latest published installment. Harington was nominated for a Primetime Emmy Award for Outstanding Supporting Actor in a Drama Series for the role in 2016. He was also nominated for a Saturn Award for Best Supporting Actor on Television in 2012 and 2016. He and the rest of the cast were nominated for Screen Actors Guild Awards for Outstanding Performance by an Ensemble in a Drama Series in 2012, 2014, 2015 and 2016.\n",
      "http://dbpedia.org/resource/Jon_Snow_(character) http://dbpedia.org/ontology/abstract Jon Nieve (conocido como Jon Snow en la adaptación televisiva de la obra en Hispanoamérica) es un personaje ficticio de la saga de libros Canción de hielo y fuego del escritor estadounidense George R.R. Martin y de su correspondiente adaptación televisiva, Juego de tronos. Se trata de uno de los personajes principales en la serie, teniendo capítulos desde su punto de vista en cuatro de los cinco libros lanzados hasta la fecha. Aparecido en el primer volumen de la serie, Juego de Tronos, Jon aparece como el hijo ilegítimo de Eddard Stark, Señor de Invernalia y Guardián del Norte. Debido a que en la obra de Martin los bastardos no poseen ningún derecho hereditario, Jon decidió unirse a la Guardia de la Noche, una hermandad de hombres de la cual toma parte Benjen Stark, el hermano menor de su padre. Ésta hermandad custodia el Muro, la frontera que separa el continente de Poniente de las tierras heladas del norte donde viven los salvajes, liderados por Mance Rayder. En la adaptación televisiva Game of Thrones es interpretado por el actor inglés Kit Harington.\n",
      "http://dbpedia.org/resource/Jon_Snow_(character) http://dbpedia.org/ontology/abstract Jon Snow est l'un des personnages principaux de la saga Le Trône de fer écrite par George R. R. Martin. Il est désigné comme étant le fils illégitime de lord Eddard Stark et d'une femme inconnue. Né en l'an 283, c'est un jeune garçon âgé de quatorze ans au début de la saga, (dix-sept ans dans l'adaptation télévisée) qui, comme la plupart des caractéristiques physiques des Stark, possède des cheveux noirs, le teint brun, des yeux d'un gris noir sombre et une carrure mince et gracieuse. Il ressemble d'ailleurs bien plus à son père que ses demi-frères et demi-sœurs. Jon est accompagné d'un loup géant blanc, un albinos du nom de Fantôme. Les circonstances de la naissance de Jon restent cependant entourées de mystère, ainsi que l'identité réelle de sa mère.\n",
      "http://dbpedia.org/resource/Jon_Snow_(character) http://dbpedia.org/ontology/abstract Jon Snow (pronuncia /ˈʤɒn ˈsnoʊ/) è un personaggio della saga letteraria di genere fantasy medievale Cronache del ghiaccio e del fuoco, creata dallo scrittore statunitense George R. R. Martin. Jon è uno dei personaggi principali della saga e appare sin dal primo romanzo, A Game of Thrones.\n",
      "http://dbpedia.org/resource/Jon_Snow_(character) http://dbpedia.org/ontology/abstract Джон Сноу (англ. Jon Snow) — персонаж серии фэнтези-романов «Песнь Льда и Огня» американского писателя Джорджа Мартина. Является центральным персонажем (ПОВ) серии, от лица которого ведётся часть глав романов. Появляется в книгах «Игра престолов» (1996), «Битва королей» (1998), «Буря мечей» (2000), «Танец с драконами» (2011), присутствуя в четвёртой книге саги «Пир стервятников» (2005) в качестве второстепенного персонажа. Считалось, что Джон умер после пятого сезона сериала и книги «Танец с драконами», однако в шестом сезоне сериала было подтверждено его воскрешение Мелисандрой в книге «Ветра зимы». Один из наиболее популярных персонажей серии по мнению «Нью-Йорк Таймс» и один из главных персонажей цикла по мнению Мартина. В сериальной адаптации серии «Игра Престолов» роль Джона Сноу играет британский актёр Кит Харингтон. В 2012 за эту роль Харингтон был номинирован на премию «Сатурн» в категории «Лучший телеактёр второго плана». Также в составе всего актёрского состава сериала был номинирован на «Премию Гильдии киноактёров США» за лучший актёрский состав в драматическом сериале в 2012, 2014 и 2015 годах.\n",
      "http://dbpedia.org/resource/Jon_Snow_(character) http://dbpedia.org/ontology/alias King CrowThe White Wolf\n",
      "http://dbpedia.org/resource/Jon_Snow_(character) http://dbpedia.org/ontology/alias Lord Snow\n",
      "http://dbpedia.org/resource/Jon_Snow_(character) http://dbpedia.org/ontology/creator http://dbpedia.org/resource/George_R._R._Martin\n",
      "http://dbpedia.org/resource/Jon_Snow_(character) http://dbpedia.org/ontology/firstAppearance \" (2011)\n",
      "http://dbpedia.org/resource/Jon_Snow_(character) http://dbpedia.org/ontology/firstAppearance \" (2015)\n",
      "http://dbpedia.org/resource/Jon_Snow_(character) http://dbpedia.org/ontology/firstAppearance '' (1996)\n",
      "http://dbpedia.org/resource/Jon_Snow_(character) http://dbpedia.org/ontology/firstAppearance * \"\n",
      "http://dbpedia.org/resource/Jon_Snow_(character) http://dbpedia.org/ontology/firstAppearance * ''\n",
      "http://dbpedia.org/resource/Jon_Snow_(character) http://dbpedia.org/ontology/firstAppearance * Novel:\n",
      "http://dbpedia.org/resource/Jon_Snow_(character) http://dbpedia.org/ontology/firstAppearance * Television:\n",
      "http://dbpedia.org/resource/Jon_Snow_(character) http://dbpedia.org/ontology/firstAppearance * Video game:\n",
      "http://dbpedia.org/resource/Jon_Snow_(character) http://dbpedia.org/ontology/firstAppearance A Game of Thrones\n",
      "http://dbpedia.org/resource/Jon_Snow_(character) http://dbpedia.org/ontology/firstAppearance The Lost Lords\n",
      "http://dbpedia.org/resource/Jon_Snow_(character) http://dbpedia.org/ontology/firstAppearance Winter Is Coming\n",
      "http://dbpedia.org/resource/Jon_Snow_(character) http://dbpedia.org/ontology/lastAppearance http://dbpedia.org/resource/A_Dance_with_Dragons\n",
      "http://dbpedia.org/resource/Jon_Snow_(character) http://dbpedia.org/ontology/portrayer http://dbpedia.org/resource/Kit_Harington\n",
      "http://dbpedia.org/resource/Jon_Snow_(character) http://dbpedia.org/ontology/relative http://dbpedia.org/resource/Aegon_Targaryen\n",
      "http://dbpedia.org/resource/Jon_Snow_(character) http://dbpedia.org/ontology/relative http://dbpedia.org/resource/Arya_Stark\n",
      "http://dbpedia.org/resource/Jon_Snow_(character) http://dbpedia.org/ontology/relative http://dbpedia.org/resource/Benjen_Stark\n",
      "http://dbpedia.org/resource/Jon_Snow_(character) http://dbpedia.org/ontology/relative http://dbpedia.org/resource/Bran_Stark\n",
      "http://dbpedia.org/resource/Jon_Snow_(character) http://dbpedia.org/ontology/relative http://dbpedia.org/resource/Daenerys_Targaryen\n",
      "http://dbpedia.org/resource/Jon_Snow_(character) http://dbpedia.org/ontology/relative http://dbpedia.org/resource/House_Stark\n",
      "http://dbpedia.org/resource/Jon_Snow_(character) http://dbpedia.org/ontology/relative http://dbpedia.org/resource/House_Targaryen\n",
      "http://dbpedia.org/resource/Jon_Snow_(character) http://dbpedia.org/ontology/relative http://dbpedia.org/resource/Lyanna_Stark\n",
      "http://dbpedia.org/resource/Jon_Snow_(character) http://dbpedia.org/ontology/relative http://dbpedia.org/resource/Ned_Stark\n",
      "http://dbpedia.org/resource/Jon_Snow_(character) http://dbpedia.org/ontology/relative http://dbpedia.org/resource/Rhaegar_Targaryen\n",
      "http://dbpedia.org/resource/Jon_Snow_(character) http://dbpedia.org/ontology/relative http://dbpedia.org/resource/Rickon_Stark\n",
      "http://dbpedia.org/resource/Jon_Snow_(character) http://dbpedia.org/ontology/relative http://dbpedia.org/resource/Robb_Stark\n",
      "http://dbpedia.org/resource/Jon_Snow_(character) http://dbpedia.org/ontology/relative http://dbpedia.org/resource/Sansa_Stark\n",
      "http://dbpedia.org/resource/Jon_Snow_(character) http://dbpedia.org/ontology/relative http://dbpedia.org/resource/Viserys_Targaryen\n",
      "http://dbpedia.org/resource/Jon_Snow_(character) http://dbpedia.org/ontology/series http://dbpedia.org/resource/A_Song_of_Ice_and_Fire\n",
      "http://dbpedia.org/resource/Jon_Snow_(character) http://dbpedia.org/ontology/series http://dbpedia.org/resource/Game_of_Thrones\n",
      "http://dbpedia.org/resource/Jon_Snow_(character) http://dbpedia.org/ontology/wikiPageID 976141\n",
      "http://dbpedia.org/resource/Jon_Snow_(character) http://dbpedia.org/ontology/wikiPageRevisionID 744063250\n",
      "http://dbpedia.org/resource/Jon_Snow_(character) http://dbpedia.org/property/caption Kit Harington as Jon Snow\n",
      "http://dbpedia.org/resource/Jon_Snow_(character) http://dbpedia.org/property/data http://dbpedia.org/resource/The_North_(A_Song_of_Ice_and_Fire)\n",
      "http://dbpedia.org/resource/Jon_Snow_(character) http://dbpedia.org/property/footer Coat of arms of the Night's Watch, House Stark and House Targaryen.\n",
      "http://dbpedia.org/resource/Jon_Snow_(character) http://dbpedia.org/property/gender Male\n",
      "http://dbpedia.org/resource/Jon_Snow_(character) http://dbpedia.org/property/image A Song of Ice and Fire arms of Night Watch.svg\n",
      "http://dbpedia.org/resource/Jon_Snow_(character) http://dbpedia.org/property/image Stark Coat of Arms.png\n",
      "http://dbpedia.org/resource/Jon_Snow_(character) http://dbpedia.org/property/image Three dragons.png\n",
      "http://dbpedia.org/resource/Jon_Snow_(character) http://dbpedia.org/property/lbl Kingdom\n",
      "http://dbpedia.org/resource/Jon_Snow_(character) http://dbpedia.org/property/significantother http://dbpedia.org/resource/Ygritte\n",
      "http://dbpedia.org/resource/Jon_Snow_(character) http://dbpedia.org/property/title King in the North\n",
      "http://dbpedia.org/resource/Jon_Snow_(character) http://dbpedia.org/property/title the Night's Watch\n",
      "http://dbpedia.org/resource/Jon_Snow_(character) http://dbpedia.org/property/title 998\n",
      "http://dbpedia.org/resource/Jon_Snow_(character) http://dbpedia.org/property/width 125\n",
      "http://dbpedia.org/resource/Jon_Snow_(character) http://dbpedia.org/property/width 140\n",
      "http://dbpedia.org/resource/Jon_Snow_(character) http://dbpedia.org/property/width 150\n",
      "http://dbpedia.org/resource/Jon_Snow_(character) http://purl.org/dc/terms/description A Song of Ice and Fire character\n",
      "http://dbpedia.org/resource/Jon_Snow_(character) http://purl.org/dc/terms/subject http://dbpedia.org/resource/Category:A_Song_of_Ice_and_Fire_characters\n",
      "http://dbpedia.org/resource/Jon_Snow_(character) http://purl.org/dc/terms/subject http://dbpedia.org/resource/Category:Characters_in_American_novels_of_the_20th_century\n",
      "http://dbpedia.org/resource/Jon_Snow_(character) http://purl.org/dc/terms/subject http://dbpedia.org/resource/Category:Characters_in_American_novels_of_the_21st_century\n",
      "http://dbpedia.org/resource/Jon_Snow_(character) http://purl.org/dc/terms/subject http://dbpedia.org/resource/Category:Fictional_adoptees\n",
      "http://dbpedia.org/resource/Jon_Snow_(character) http://purl.org/dc/terms/subject http://dbpedia.org/resource/Category:Fictional_characters_introduced_in_1996\n",
      "http://dbpedia.org/resource/Jon_Snow_(character) http://purl.org/dc/terms/subject http://dbpedia.org/resource/Category:Fictional_kings\n",
      "http://dbpedia.org/resource/Jon_Snow_(character) http://purl.org/dc/terms/subject http://dbpedia.org/resource/Category:Fictional_lords_and_ladies\n",
      "http://dbpedia.org/resource/Jon_Snow_(character) http://purl.org/dc/terms/subject http://dbpedia.org/resource/Category:Fictional_orphans\n",
      "http://dbpedia.org/resource/Jon_Snow_(character) http://purl.org/dc/terms/subject http://dbpedia.org/resource/Category:Fictional_swordsmen\n",
      "http://dbpedia.org/resource/Jon_Snow_(character) http://purl.org/linguistics/gold/hypernym http://dbpedia.org/resource/Character\n",
      "http://dbpedia.org/resource/Jon_Snow_(character) http://www.w3.org/1999/02/22-rdf-syntax-ns#type http://dbpedia.org/class/yago/Ability105616246\n",
      "http://dbpedia.org/resource/Jon_Snow_(character) http://www.w3.org/1999/02/22-rdf-syntax-ns#type http://dbpedia.org/class/yago/Abstraction100002137\n",
      "http://dbpedia.org/resource/Jon_Snow_(character) http://www.w3.org/1999/02/22-rdf-syntax-ns#type http://dbpedia.org/class/yago/Cognition100023271\n",
      "http://dbpedia.org/resource/Jon_Snow_(character) http://www.w3.org/1999/02/22-rdf-syntax-ns#type http://dbpedia.org/class/yago/Creativity105624700\n",
      "http://dbpedia.org/resource/Jon_Snow_(character) http://www.w3.org/1999/02/22-rdf-syntax-ns#type http://dbpedia.org/class/yago/FictionalCharacter109587565\n",
      "http://dbpedia.org/resource/Jon_Snow_(character) http://www.w3.org/1999/02/22-rdf-syntax-ns#type http://dbpedia.org/class/yago/ImaginaryBeing109483738\n",
      "http://dbpedia.org/resource/Jon_Snow_(character) http://www.w3.org/1999/02/22-rdf-syntax-ns#type http://dbpedia.org/class/yago/Imagination105625465\n",
      "http://dbpedia.org/resource/Jon_Snow_(character) http://www.w3.org/1999/02/22-rdf-syntax-ns#type http://dbpedia.org/class/yago/PsychologicalFeature100023100\n",
      "http://dbpedia.org/resource/Jon_Snow_(character) http://www.w3.org/1999/02/22-rdf-syntax-ns#type http://dbpedia.org/class/yago/WikicatFictionalCharactersIntroducedIn1996\n",
      "http://dbpedia.org/resource/Jon_Snow_(character) http://www.w3.org/1999/02/22-rdf-syntax-ns#type http://dbpedia.org/ontology/Agent\n",
      "http://dbpedia.org/resource/Jon_Snow_(character) http://www.w3.org/1999/02/22-rdf-syntax-ns#type http://dbpedia.org/ontology/FictionalCharacter\n",
      "http://dbpedia.org/resource/Jon_Snow_(character) http://www.w3.org/1999/02/22-rdf-syntax-ns#type http://dbpedia.org/ontology/Person\n",
      "http://dbpedia.org/resource/Jon_Snow_(character) http://www.w3.org/1999/02/22-rdf-syntax-ns#type http://schema.org/Person\n",
      "http://dbpedia.org/resource/Jon_Snow_(character) http://www.w3.org/1999/02/22-rdf-syntax-ns#type http://www.ontologydesignpatterns.org/ont/dul/DUL.owl#Agent\n",
      "http://dbpedia.org/resource/Jon_Snow_(character) http://www.w3.org/1999/02/22-rdf-syntax-ns#type http://www.ontologydesignpatterns.org/ont/dul/DUL.owl#NaturalPerson\n",
      "http://dbpedia.org/resource/Jon_Snow_(character) http://www.w3.org/1999/02/22-rdf-syntax-ns#type http://www.w3.org/2002/07/owl#Thing\n",
      "http://dbpedia.org/resource/Jon_Snow_(character) http://www.w3.org/1999/02/22-rdf-syntax-ns#type http://www.wikidata.org/entity/Q215627\n",
      "http://dbpedia.org/resource/Jon_Snow_(character) http://www.w3.org/1999/02/22-rdf-syntax-ns#type http://www.wikidata.org/entity/Q24229398\n",
      "http://dbpedia.org/resource/Jon_Snow_(character) http://www.w3.org/1999/02/22-rdf-syntax-ns#type http://www.wikidata.org/entity/Q5\n",
      "http://dbpedia.org/resource/Jon_Snow_(character) http://www.w3.org/1999/02/22-rdf-syntax-ns#type http://www.wikidata.org/entity/Q95074\n",
      "http://dbpedia.org/resource/Jon_Snow_(character) http://www.w3.org/1999/02/22-rdf-syntax-ns#type http://xmlns.com/foaf/0.1/Person\n",
      "http://dbpedia.org/resource/Jon_Snow_(character) http://www.w3.org/2000/01/rdf-schema#comment جون سنو هو شخصية خيالية من سلسلة روايات الفنتازيا أغنية الجليد والنار للكاتب الأمريكي جورج ر. ر. مارتن والمسلسل التلفزيوني المستند عليها صراع العروش. هو شخصية بارزة في القصة واعتبر أحد \"أروع الإبداعات\" والشخصية الأكثر شعبية للمؤلف من قبل صحيفة نيويورك تايمز. ظهر للمرة الأولى في لعبة العروش في سنة 1996 كابن غير شرعي لنيد ستارك لورد \"وينترفيل\" وهي قلعة قديمة في شمال مملكة خيالية تدعى ويستروس.\n",
      "http://dbpedia.org/resource/Jon_Snow_(character) http://www.w3.org/2000/01/rdf-schema#comment Jon Snow is a fictional character in the A Song of Ice and Fire series of fantasy novels by American author George R. R. Martin, and its television adaptation Game of Thrones. He is a prominent point of view character in the novels, and has been called one of the author's \"finest creations\" and most popular characters by The New York Times. Jon is a main character in the TV series, and his storyline in the 2015 season 5 finale generated a strong reaction among viewers. Speculation about the character's parentage has also been a popular topic of discussion among fans of both the books and the TV series.\n",
      "http://dbpedia.org/resource/Jon_Snow_(character) http://www.w3.org/2000/01/rdf-schema#comment Jon Nieve (conocido como Jon Snow en la adaptación televisiva de la obra en Hispanoamérica) es un personaje ficticio de la saga de libros Canción de hielo y fuego del escritor estadounidense George R.R. Martin y de su correspondiente adaptación televisiva, Juego de tronos. Se trata de uno de los personajes principales en la serie, teniendo capítulos desde su punto de vista en cuatro de los cinco libros lanzados hasta la fecha. En la adaptación televisiva Game of Thrones es interpretado por el actor inglés Kit Harington.\n",
      "http://dbpedia.org/resource/Jon_Snow_(character) http://www.w3.org/2000/01/rdf-schema#comment Jon Snow est l'un des personnages principaux de la saga Le Trône de fer écrite par George R. R. Martin. Il est désigné comme étant le fils illégitime de lord Eddard Stark et d'une femme inconnue. Né en l'an 283, c'est un jeune garçon âgé de quatorze ans au début de la saga, (dix-sept ans dans l'adaptation télévisée) qui, comme la plupart des caractéristiques physiques des Stark, possède des cheveux noirs, le teint brun, des yeux d'un gris noir sombre et une carrure mince et gracieuse. Il ressemble d'ailleurs bien plus à son père que ses demi-frères et demi-sœurs. Jon est accompagné d'un loup géant blanc, un albinos du nom de Fantôme. Les circonstances de la naissance de Jon restent cependant entourées de mystère, ainsi que l'identité réelle de sa mère.\n",
      "http://dbpedia.org/resource/Jon_Snow_(character) http://www.w3.org/2000/01/rdf-schema#comment Jon Snow (pronuncia /ˈʤɒn ˈsnoʊ/) è un personaggio della saga letteraria di genere fantasy medievale Cronache del ghiaccio e del fuoco, creata dallo scrittore statunitense George R. R. Martin. Jon è uno dei personaggi principali della saga e appare sin dal primo romanzo, A Game of Thrones.\n",
      "http://dbpedia.org/resource/Jon_Snow_(character) http://www.w3.org/2000/01/rdf-schema#comment Джон Сноу (англ. Jon Snow) — персонаж серии фэнтези-романов «Песнь Льда и Огня» американского писателя Джорджа Мартина. Является центральным персонажем (ПОВ) серии, от лица которого ведётся часть глав романов. Появляется в книгах «Игра престолов» (1996), «Битва королей» (1998), «Буря мечей» (2000), «Танец с драконами» (2011), присутствуя в четвёртой книге саги «Пир стервятников» (2005) в качестве второстепенного персонажа. Считалось, что Джон умер после пятого сезона сериала и книги «Танец с драконами», однако в шестом сезоне сериала было подтверждено его воскрешение Мелисандрой в книге «Ветра зимы».\n",
      "http://dbpedia.org/resource/Jon_Snow_(character) http://www.w3.org/2000/01/rdf-schema#label جون سنو (شخصية)\n",
      "http://dbpedia.org/resource/Jon_Snow_(character) http://www.w3.org/2000/01/rdf-schema#label Jon Snow (character)\n",
      "http://dbpedia.org/resource/Jon_Snow_(character) http://www.w3.org/2000/01/rdf-schema#label Jon Nieve\n",
      "http://dbpedia.org/resource/Jon_Snow_(character) http://www.w3.org/2000/01/rdf-schema#label Jon Snow\n",
      "http://dbpedia.org/resource/Jon_Snow_(character) http://www.w3.org/2000/01/rdf-schema#label Jon Snow\n",
      "http://dbpedia.org/resource/Jon_Snow_(character) http://www.w3.org/2000/01/rdf-schema#label Джон Сноу (персонаж)\n",
      "http://dbpedia.org/resource/Jon_Snow_(character) http://www.w3.org/2000/01/rdf-schema#seeAlso http://dbpedia.org/resource/Family_tree_of_House_Targaryen\n",
      "http://dbpedia.org/resource/Jon_Snow_(character) http://www.w3.org/2002/07/owl#sameAs http://cs.dbpedia.org/resource/Jon_Sníh\n",
      "http://dbpedia.org/resource/Jon_Snow_(character) http://www.w3.org/2002/07/owl#sameAs http://dbpedia.org/resource/Jon_Snow_(character)\n",
      "http://dbpedia.org/resource/Jon_Snow_(character) http://www.w3.org/2002/07/owl#sameAs http://es.dbpedia.org/resource/Jon_Nieve\n",
      "http://dbpedia.org/resource/Jon_Snow_(character) http://www.w3.org/2002/07/owl#sameAs http://fr.dbpedia.org/resource/Jon_Snow\n",
      "http://dbpedia.org/resource/Jon_Snow_(character) http://www.w3.org/2002/07/owl#sameAs http://it.dbpedia.org/resource/Jon_Snow\n",
      "http://dbpedia.org/resource/Jon_Snow_(character) http://www.w3.org/2002/07/owl#sameAs http://rdf.freebase.com/ns/m.02ntqy0\n",
      "http://dbpedia.org/resource/Jon_Snow_(character) http://www.w3.org/2002/07/owl#sameAs http://wikidata.dbpedia.org/resource/Q3183235\n",
      "http://dbpedia.org/resource/Jon_Snow_(character) http://www.w3.org/2002/07/owl#sameAs http://www.wikidata.org/entity/Q3183235\n",
      "http://dbpedia.org/resource/Jon_Snow_(character) http://www.w3.org/2002/07/owl#sameAs http://yago-knowledge.org/resource/Jon_Snow_(character)\n",
      "http://dbpedia.org/resource/Jon_Snow_(character) http://www.w3.org/ns/prov#wasDerivedFrom http://en.wikipedia.org/wiki/Jon_Snow_(character)?oldid=744063250\n",
      "http://dbpedia.org/resource/Jon_Snow_(character) http://xmlns.com/foaf/0.1/gender male\n",
      "http://dbpedia.org/resource/Jon_Snow_(character) http://xmlns.com/foaf/0.1/givenName Jon\n",
      "http://dbpedia.org/resource/Jon_Snow_(character) http://xmlns.com/foaf/0.1/isPrimaryTopicOf http://en.wikipedia.org/wiki/Jon_Snow_(character)\n",
      "http://dbpedia.org/resource/Jon_Snow_(character) http://xmlns.com/foaf/0.1/name Jon Snow\n",
      "http://dbpedia.org/resource/Jon_Snow_(character) http://xmlns.com/foaf/0.1/surname Snow\n",
      "http://dbpedia.org/resource/Jon_Stark http://dbpedia.org/ontology/wikiPageRedirects http://dbpedia.org/resource/Jon_Snow_(character)\n",
      "http://dbpedia.org/resource/Jon_Targaryen http://dbpedia.org/ontology/wikiPageRedirects http://dbpedia.org/resource/Jon_Snow_(character)\n",
      "http://dbpedia.org/resource/King_Jon_Snow http://dbpedia.org/ontology/wikiPageRedirects http://dbpedia.org/resource/Jon_Snow_(character)\n",
      "http://dbpedia.org/resource/Ned_Stark http://dbpedia.org/ontology/relative http://dbpedia.org/resource/Jon_Snow_(character)\n",
      "http://dbpedia.org/resource/R+L=J http://dbpedia.org/ontology/wikiPageRedirects http://dbpedia.org/resource/Jon_Snow_(character)\n",
      "http://dbpedia.org/resource/R+L=J_Theory http://dbpedia.org/ontology/wikiPageRedirects http://dbpedia.org/resource/Jon_Snow_(character)\n",
      "http://dbpedia.org/resource/R+L=J_fan_theory http://dbpedia.org/ontology/wikiPageRedirects http://dbpedia.org/resource/Jon_Snow_(character)\n",
      "http://dbpedia.org/resource/R+L=J_theory http://dbpedia.org/ontology/wikiPageRedirects http://dbpedia.org/resource/Jon_Snow_(character)\n",
      "http://dbpedia.org/resource/Rickon_Stark http://dbpedia.org/ontology/relative http://dbpedia.org/resource/Jon_Snow_(character)\n",
      "http://dbpedia.org/resource/Robb_Stark http://dbpedia.org/ontology/relative http://dbpedia.org/resource/Jon_Snow_(character)\n",
      "http://dbpedia.org/resource/Sansa_Stark http://dbpedia.org/ontology/relative http://dbpedia.org/resource/Jon_Snow_(character)\n",
      "http://dbpedia.org/resource/Snow_(disambiguation) http://dbpedia.org/ontology/wikiPageDisambiguates http://dbpedia.org/resource/Jon_Snow_(character)\n",
      "http://dbpedia.org/resource/Viserys_Targaryen http://dbpedia.org/ontology/relative http://dbpedia.org/resource/Jon_Snow_(character)\n",
      "http://dbpedia.org/resource/World_of_A_Song_of_Ice_and_Fire http://dbpedia.org/property/people http://dbpedia.org/resource/Jon_Snow_(character)\n",
      "http://dbpedia.org/resource/Ygritte http://dbpedia.org/property/significantother http://dbpedia.org/resource/Jon_Snow_(character)\n",
      "http://en.wikipedia.org/wiki/Jon_Snow_(character) http://xmlns.com/foaf/0.1/primaryTopic http://dbpedia.org/resource/Jon_Snow_(character)\n"
     ]
    }
   ],
   "source": [
    "# Parse directly from a string\n",
    "remote_g = Graph()\n",
    "\n",
    "remote_g.parse(URIRef('http://dbpedia.org/resource/Jon_Snow_(character)'))\n",
    "\n",
    "for (s,p,o) in sorted(remote_g):\n",
    "    print(s,p,o)"
   ]
  },
  {
   "cell_type": "code",
   "execution_count": null,
   "metadata": {},
   "outputs": [],
   "source": []
  }
 ],
 "metadata": {
  "kernelspec": {
   "display_name": "Python 3",
   "language": "python",
   "name": "python3"
  },
  "language_info": {
   "codemirror_mode": {
    "name": "ipython",
    "version": 3
   },
   "file_extension": ".py",
   "mimetype": "text/x-python",
   "name": "python",
   "nbconvert_exporter": "python",
   "pygments_lexer": "ipython3",
   "version": "3.7.4"
  }
 },
 "nbformat": 4,
 "nbformat_minor": 2
}

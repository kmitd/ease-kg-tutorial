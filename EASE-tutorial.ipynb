{
 "cells": [
  {
   "cell_type": "markdown",
   "metadata": {},
   "source": [
    "# <font color=\"green\">EASE Fall School - Knowledge Graphs tutorial</font>\n",
    "\n",
    "In this tutorial, we will learn the basics of interacting with knowledge graphs, i.e.:\n",
    " - modeling data\n",
    " - creating data with Python RDFlib\n",
    " - creating SPARQL services on top of KGs"
   ]
  },
  {
   "cell_type": "markdown",
   "metadata": {},
   "source": [
    "***************\n",
    "\n",
    "# Part 1 - Data Modeling\n",
    "\n",
    "\n",
    "Choose a domain related to robots, e.g. ```navigation```, ```perception```, ```vision```, ```manipulation```…\n",
    "\n",
    "1. what are the types and their hierarchy (_classes_)?\n",
    "2. what are the relations and their types (_domain, range_)?\n",
    "3. give a set of objects with their types and relations (_instances_)?\n",
    "\n",
    "Draw the graph by hand  \n",
    "\n"
   ]
  },
  {
   "cell_type": "markdown",
   "metadata": {},
   "source": [
    "**********\n",
    "\n",
    "# Part 2 - RDFlib \n",
    "\n",
    "rdflib is a widely used Python library for RDF (all documentation can be found [here](https://rdflib.readthedocs.io/en/stable/index.html))"
   ]
  },
  {
   "cell_type": "code",
   "execution_count": 105,
   "metadata": {},
   "outputs": [],
   "source": [
    "# Imports\n",
    "# These are the main classes and types we will be using from rdflib\n",
    "from rdflib import Graph, Literal, Namespace, RDF, URIRef\n",
    "from rdflib.namespace import RDF, RDFS"
   ]
  },
  {
   "cell_type": "markdown",
   "metadata": {},
   "source": [
    "#### Create an empty graph"
   ]
  },
  {
   "cell_type": "code",
   "execution_count": 85,
   "metadata": {
    "scrolled": false
   },
   "outputs": [
    {
     "name": "stdout",
     "output_type": "stream",
     "text": [
      "Graph has 0 statements.\n"
     ]
    }
   ],
   "source": [
    "#A Graph object is always required to load triples\n",
    "\n",
    "g = Graph() # an empty graph\n",
    "print(\"Graph has %s statements.\" % len(g))"
   ]
  },
  {
   "cell_type": "markdown",
   "metadata": {},
   "source": [
    "\n",
    "#### Create RDF triples\n",
    "\n",
    "Triples are added to the graph with the function Graph.add(), with a Python **tuple** (subject, predicate, object) given as parameter.\n",
    "\n",
    "Notice the namespace convenience syntax!"
   ]
  },
  {
   "cell_type": "code",
   "execution_count": 86,
   "metadata": {},
   "outputs": [],
   "source": [
    "# We will now create about Turtlebot1, based on http://www.willowgarage.com/turtlebot/specs\n",
    "\n",
    "# create a namespace and a prefix, then bind it to the graph \n",
    "rob = Namespace(\"http://example.org/robots/\")\n",
    "g.bind(\"rob\", rob)\n",
    "\n",
    "\n",
    "# create 2 new items\n",
    "turtlebot1 = URIRef(\"http://example.org/robots/TurtleBot1\") \n",
    "kinect = rob.Kinect # shortcut for URIRef(\"http://example.org/robots/Kinect\") \n",
    "\n",
    "# linking the two items\n",
    "g.add( (turtlebot1, rob.hasSensor, kinect) )\n",
    "\n",
    "# create triples with literal values, e.g. names \n",
    "g.add( (turtlebot1, RDFS.label, Literal(\"Turtlebot 1\", lang=\"en\")) )\n",
    "g.add( (kinect, RDFS.label, Literal(\"Microsoft Kinect\", lang=\"en\")) )\n",
    "\n",
    "# it works with numeric values too\n",
    "g.add( (turtlebot1, rob.hasGBMemory, Literal(2)) )"
   ]
  },
  {
   "cell_type": "code",
   "execution_count": 84,
   "metadata": {
    "scrolled": false
   },
   "outputs": [
    {
     "name": "stdout",
     "output_type": "stream",
     "text": [
      "http://example.org/robots/Kinect http://www.w3.org/1999/02/22-rdf-syntax-ns#type http://example.org/robots/KinectSensor\n",
      "http://example.org/robots/TurtleBot1 http://www.w3.org/1999/02/22-rdf-syntax-ns#type http://example.org/robots/Robot\n",
      "http://example.org/robots/TurtleBot1 http://www.w3.org/2000/01/rdf-schema#label Turtlebot 1\n",
      "http://example.org/robots/TurtleBot1 http://example.org/robots/hasGBMemory 2\n",
      "http://example.org/robots/Kinect http://www.w3.org/1999/02/22-rdf-syntax-ns#type http://example.org/robots/Sensor\n",
      "http://example.org/robots/Kinect http://www.w3.org/2000/01/rdf-schema#label Microsoft Kinect\n",
      "http://example.org/robots/TurtleBot1 http://example.org/robots/hasSensor http://example.org/robots/Kinect\n"
     ]
    }
   ],
   "source": [
    "# show the graph\n",
    "for (s,p,o) in g: \n",
    "    print(s,p,o)"
   ]
  },
  {
   "cell_type": "markdown",
   "metadata": {},
   "source": [
    "#### A bit of semantics\n",
    "\n",
    "There is not much of semantics in the above graph. \n",
    "\n",
    "We can add semantics using ```RDFS:subClassOf``` and ```RDFS:domain```/```RDFS:range```. "
   ]
  },
  {
   "cell_type": "code",
   "execution_count": 89,
   "metadata": {
    "scrolled": true
   },
   "outputs": [
    {
     "name": "stdout",
     "output_type": "stream",
     "text": [
      "http://example.org/robots/TurtleBot1 http://example.org/robots/hasGBMemory 2\n",
      "http://example.org/robots/TurtleBot1 http://www.w3.org/2000/01/rdf-schema#subClassOf http://example.org/robots/Robot\n",
      "http://example.org/robots/TurtleBot1 http://example.org/robots/hasSensor http://example.org/robots/Kinect\n",
      "http://example.org/robots/Kinect http://www.w3.org/1999/02/22-rdf-syntax-ns#type http://example.org/robots/KinectSensor\n",
      "http://example.org/robots/Kinect http://www.w3.org/2000/01/rdf-schema#label Microsoft Kinect\n",
      "http://example.org/robots/hasSensor http://www.w3.org/2000/01/rdf-schema#domain http://example.org/robots/Robot\n",
      "http://example.org/robots/TurtleBot1 http://www.w3.org/1999/02/22-rdf-syntax-ns#type http://example.org/robots/WheeledRobot\n",
      "http://example.org/robots/TurtleBot1 http://www.w3.org/2000/01/rdf-schema#label Turtlebot 1\n",
      "http://example.org/robots/hasSensor http://www.w3.org/2000/01/rdf-schema#range http://example.org/robots/Sensor\n",
      "http://example.org/robots/hasGBMemory http://www.w3.org/2000/01/rdf-schema#domain http://example.org/robots/Robot\n",
      "http://example.org/robots/hasGBMemory http://www.w3.org/2000/01/rdf-schema#range http://www.w3.org/2000/01/rdf-schema#Literal\n",
      "http://example.org/robots/Kinect http://www.w3.org/2000/01/rdf-schema#subClassOf http://example.org/robots/Sensor\n"
     ]
    }
   ],
   "source": [
    "## let's give items a type \n",
    "g.add( (turtlebot1, RDF.type, rob.WheeledRobot) )\n",
    "g.add( (kinect, RDF.type, rob.KinectSensor ))\n",
    "\n",
    "# specify hierarchy\n",
    "g.add((rob.WheeledRobot, RDFS.subClassOf, rob.Robot))\n",
    "g.add((rob.Kinect, RDFS.subClassOf, rob.Sensor))\n",
    "\n",
    "# domain and ranges\n",
    "g.add((rob.hasSensor, RDFS.domain, rob.Robot))\n",
    "g.add((rob.hasSensor, RDFS.range, rob.Sensor))\n",
    "\n",
    "g.add((rob.hasGBMemory, RDFS.domain, rob.Robot))\n",
    "g.add((rob.hasGBMemory, RDFS.range, RDFS.Literal))\n",
    "\n",
    "for (s,p,o) in g: \n",
    "    print(s,p,o)\n"
   ]
  },
  {
   "cell_type": "markdown",
   "metadata": {},
   "source": [
    "#### Save my file"
   ]
  },
  {
   "cell_type": "code",
   "execution_count": 90,
   "metadata": {
    "scrolled": true
   },
   "outputs": [],
   "source": [
    "g.serialize(destination='robots.ttl' , format=\"turtle\") # also pretty-xml, n3, rdf/xml ..."
   ]
  },
  {
   "cell_type": "markdown",
   "metadata": {},
   "source": [
    "#### See my graph\n",
    "\n",
    "You can visualise the graph using this service: http://www.ldf.fi/service/rdf-grapher"
   ]
  },
  {
   "cell_type": "markdown",
   "metadata": {},
   "source": [
    "# Your turn\n",
    "\n",
    "Create a graph of at least 30 triples (and at least 5 classes/instances) based on the domain you chose earlier. \n",
    "* Define types and hierarchies\n",
    "* Define domain and ranges\n",
    "* Define some instances\n",
    "\n",
    "Compare your drawing with the online one!"
   ]
  },
  {
   "cell_type": "markdown",
   "metadata": {},
   "source": [
    "*************\n",
    "\n",
    "# Part 3 - Querying with SPARQL \n",
    "\n",
    "1. Load your dataset to <https://krr.triply.cc/EASE-fall-school> \n",
    "    * Add your description\n",
    "    * Do not forget to set the dataset to *public*\n",
    "\n",
    "\n",
    "2. See your entities using the [`Browser`](https://krr.triply.cc/EASE-fall-school/robots-test/browser?resource=http%3A%2F%2Fexample.org%2Frobots%2FTurtleBot1&direction=forward) tab\n",
    "\n",
    "\n",
    "3. Check your triples in the [`Table`](https://krr.triply.cc/EASE-fall-school/robots-test/table) tab\n",
    "    * You can create custom prefixes by double-clicking on the prefix\n",
    "\n",
    "\n",
    "4. Activate a SPARQL service in [`Services`](https://krr.triply.cc/EASE-fall-school/robots-test/services)\n",
    "\n",
    "\n",
    "5. Try running few SPARQL queries \n",
    "    * How many classes?\n",
    "    * How many properties?\n",
    "    * Can you plot classes by number of instances?\n"
   ]
  },
  {
   "cell_type": "markdown",
   "metadata": {},
   "source": [
    "**************\n",
    "\n",
    "# Additional material (not mandatory)\n",
    "\n",
    "### Querying thourgh basic triple matching\n",
    "\n",
    "We use method Graph.triples and a Python tuple that acts as a mask for specifying our criteria"
   ]
  },
  {
   "cell_type": "code",
   "execution_count": 92,
   "metadata": {
    "scrolled": true
   },
   "outputs": [
    {
     "name": "stdout",
     "output_type": "stream",
     "text": [
      "--- printing raw triples ---\n",
      "http://example.org/robots/TurtleBot1 http://example.org/robots/hasGBMemory 2\n",
      "http://example.org/robots/TurtleBot1 http://www.w3.org/2000/01/rdf-schema#subClassOf http://example.org/robots/Robot\n",
      "http://example.org/robots/TurtleBot1 http://example.org/robots/hasSensor http://example.org/robots/Kinect\n",
      "http://example.org/robots/Kinect http://www.w3.org/1999/02/22-rdf-syntax-ns#type http://example.org/robots/KinectSensor\n",
      "http://example.org/robots/Kinect http://www.w3.org/2000/01/rdf-schema#label Microsoft Kinect\n",
      "http://example.org/robots/hasSensor http://www.w3.org/2000/01/rdf-schema#domain http://example.org/robots/Robot\n",
      "http://example.org/robots/TurtleBot1 http://www.w3.org/1999/02/22-rdf-syntax-ns#type http://example.org/robots/WheeledRobot\n",
      "http://example.org/robots/TurtleBot1 http://www.w3.org/2000/01/rdf-schema#label Turtlebot 1\n",
      "http://example.org/robots/hasSensor http://www.w3.org/2000/01/rdf-schema#range http://example.org/robots/Sensor\n",
      "http://example.org/robots/hasGBMemory http://www.w3.org/2000/01/rdf-schema#domain http://example.org/robots/Robot\n",
      "http://example.org/robots/hasGBMemory http://www.w3.org/2000/01/rdf-schema#range http://www.w3.org/2000/01/rdf-schema#Literal\n",
      "http://example.org/robots/Kinect http://www.w3.org/2000/01/rdf-schema#subClassOf http://example.org/robots/Sensor\n"
     ]
    }
   ],
   "source": [
    "# Printing subjects, predicates and objects out of the tuple omits Python datatypes\n",
    "print(\"--- printing raw triples ---\")\n",
    "for s, p, o in g:\n",
    "    print(s, p, o)"
   ]
  },
  {
   "cell_type": "code",
   "execution_count": 93,
   "metadata": {},
   "outputs": [
    {
     "name": "stdout",
     "output_type": "stream",
     "text": [
      "PRINTING SUBJECTS\n",
      "http://example.org/robots/TurtleBot1\n",
      "http://example.org/robots/TurtleBot1\n",
      "http://example.org/robots/TurtleBot1\n",
      "http://example.org/robots/Kinect\n",
      "http://example.org/robots/Kinect\n",
      "http://example.org/robots/hasSensor\n",
      "http://example.org/robots/TurtleBot1\n",
      "http://example.org/robots/TurtleBot1\n",
      "http://example.org/robots/hasSensor\n",
      "http://example.org/robots/hasGBMemory\n",
      "http://example.org/robots/hasGBMemory\n",
      "http://example.org/robots/Kinect\n"
     ]
    }
   ],
   "source": [
    "# subjects only\n",
    "print(\"PRINTING SUBJECTS\")\n",
    "for s in g.subjects():\n",
    "    print(s)"
   ]
  },
  {
   "cell_type": "code",
   "execution_count": 95,
   "metadata": {},
   "outputs": [
    {
     "name": "stdout",
     "output_type": "stream",
     "text": [
      "PRINTING PREDICATES\n",
      "http://example.org/robots/hasGBMemory\n",
      "http://www.w3.org/2000/01/rdf-schema#subClassOf\n",
      "http://example.org/robots/hasSensor\n",
      "http://www.w3.org/1999/02/22-rdf-syntax-ns#type\n",
      "http://www.w3.org/2000/01/rdf-schema#label\n",
      "http://www.w3.org/2000/01/rdf-schema#domain\n",
      "http://www.w3.org/1999/02/22-rdf-syntax-ns#type\n",
      "http://www.w3.org/2000/01/rdf-schema#label\n",
      "http://www.w3.org/2000/01/rdf-schema#range\n",
      "http://www.w3.org/2000/01/rdf-schema#domain\n",
      "http://www.w3.org/2000/01/rdf-schema#range\n",
      "http://www.w3.org/2000/01/rdf-schema#subClassOf\n"
     ]
    }
   ],
   "source": [
    "# predicates only\n",
    "print(\"PRINTING PREDICATES\")\n",
    "for p in g.predicates():\n",
    "    print(p)\n"
   ]
  },
  {
   "cell_type": "code",
   "execution_count": 96,
   "metadata": {
    "scrolled": true
   },
   "outputs": [
    {
     "name": "stdout",
     "output_type": "stream",
     "text": [
      "PRINTING OBJECTS\n",
      "2\n",
      "http://example.org/robots/Robot\n",
      "http://example.org/robots/Kinect\n",
      "http://example.org/robots/KinectSensor\n",
      "Microsoft Kinect\n",
      "http://example.org/robots/Robot\n",
      "http://example.org/robots/WheeledRobot\n",
      "Turtlebot 1\n",
      "http://example.org/robots/Sensor\n",
      "http://example.org/robots/Robot\n",
      "http://www.w3.org/2000/01/rdf-schema#Literal\n",
      "http://example.org/robots/Sensor\n"
     ]
    }
   ],
   "source": [
    "# objects only\n",
    "print(\"PRINTING OBJECTS\")\n",
    "for o in g.objects():\n",
    "    print(o)"
   ]
  },
  {
   "cell_type": "code",
   "execution_count": 100,
   "metadata": {
    "scrolled": true
   },
   "outputs": [
    {
     "name": "stdout",
     "output_type": "stream",
     "text": [
      "--- printing resources with sensors ---\n",
      "http://example.org/robots/TurtleBot1\n"
     ]
    }
   ],
   "source": [
    "# print sensors\n",
    "print(\"--- printing resources with sensors ---\")\n",
    "for (s,p,o) in g.triples((None, rob.hasSensor, None)):\n",
    "    print(s) "
   ]
  },
  {
   "cell_type": "code",
   "execution_count": 101,
   "metadata": {
    "scrolled": true
   },
   "outputs": [
    {
     "name": "stdout",
     "output_type": "stream",
     "text": [
      "--- printing properties of a resource ---\n",
      "http://www.w3.org/2000/01/rdf-schema#subClassOf\n",
      "http://example.org/robots/hasGBMemory\n",
      "http://www.w3.org/2000/01/rdf-schema#label\n",
      "http://example.org/robots/hasSensor\n",
      "http://www.w3.org/1999/02/22-rdf-syntax-ns#type\n"
     ]
    }
   ],
   "source": [
    "print(\"--- printing properties of Turtlebot ---\")\n",
    "for (s,p,o) in g.triples((turtlebot1, None, None)):\n",
    "    print(p) "
   ]
  },
  {
   "cell_type": "code",
   "execution_count": 102,
   "metadata": {
    "scrolled": true
   },
   "outputs": [
    {
     "name": "stdout",
     "output_type": "stream",
     "text": [
      "--- printing relationship between Turtlebot and Kinect ---\n",
      "http://example.org/robots/hasSensor\n"
     ]
    }
   ],
   "source": [
    "print(\"--- printing relationship between Turtlebot and Kinect ---\")\n",
    "for (s,p,o) in g.triples((turtlebot1, None, kinect)):\n",
    "    print(p) "
   ]
  },
  {
   "cell_type": "code",
   "execution_count": 103,
   "metadata": {},
   "outputs": [
    {
     "name": "stdout",
     "output_type": "stream",
     "text": [
      "http://example.org/robots/Kinect http://www.w3.org/1999/02/22-rdf-syntax-ns#type http://example.org/robots/KinectSensor\n",
      "http://example.org/robots/TurtleBot1 http://www.w3.org/1999/02/22-rdf-syntax-ns#type http://example.org/robots/WheeledRobot\n"
     ]
    }
   ],
   "source": [
    "#everything that has a type\n",
    "for s,p,o in g.triples( (None, RDF.type, None) ):\n",
    "    print(s,p,o)"
   ]
  },
  {
   "cell_type": "markdown",
   "metadata": {},
   "source": [
    "## Loading data from files\n",
    "\n",
    "rdflib accepts importing RDF data from a variety of sources, either locally from a file (including an extensive support of serializations), or remotely via a URI (this is a great way of checking practically if URIs return RDF according to the 3rd Linked Data principle)."
   ]
  },
  {
   "cell_type": "code",
   "execution_count": 31,
   "metadata": {
    "scrolled": true
   },
   "outputs": [
    {
     "name": "stdout",
     "output_type": "stream",
     "text": [
      "22\n"
     ]
    }
   ],
   "source": [
    "# Add triples to your graph\n",
    "\n",
    "g.parse(\"got.ttl\", format=\"ttl\")\n",
    "\n",
    "print(len(g)) # prints number of triples in the graph "
   ]
  },
  {
   "cell_type": "code",
   "execution_count": 24,
   "metadata": {},
   "outputs": [
    {
     "name": "stdout",
     "output_type": "stream",
     "text": [
      "(rdflib.term.URIRef('http://dbpedia.org/resource/Jon_Snow_(character)'),\n",
      " rdflib.term.URIRef('http://www.w3.org/2000/01/rdf-schema#comment'),\n",
      " rdflib.term.Literal('Jon Snow (pronuncia /ˈʤɒn ˈsnoʊ/) è un personaggio della saga letteraria di genere fantasy medievale Cronache del ghiaccio e del fuoco, creata dallo scrittore statunitense George R. R. Martin. Jon è uno dei personaggi principali della saga e appare sin dal primo romanzo, A Game of Thrones.', lang='it'))\n",
      "(rdflib.term.URIRef('http://dbpedia.org/resource/Jon_Snow_(character)'),\n",
      " rdflib.term.URIRef('http://purl.org/dc/terms/subject'),\n",
      " rdflib.term.URIRef('http://dbpedia.org/resource/Category:Fictional_kings'))\n",
      "(rdflib.term.URIRef('http://dbpedia.org/resource/Jon_Snow_(character)'),\n",
      " rdflib.term.URIRef('http://www.w3.org/2000/01/rdf-schema#label'),\n",
      " rdflib.term.Literal('Джон Сноу (персонаж)', lang='ru'))\n",
      "(rdflib.term.URIRef('http://dbpedia.org/resource/Jon_Snow_(character)'),\n",
      " rdflib.term.URIRef('http://dbpedia.org/ontology/relative'),\n",
      " rdflib.term.URIRef('http://dbpedia.org/resource/Rickon_Stark'))\n",
      "(rdflib.term.URIRef('http://dbpedia.org/resource/Jaehaerys_II_Targaryen'),\n",
      " rdflib.term.URIRef('http://dbpedia.org/ontology/wikiPageRedirects'),\n",
      " rdflib.term.URIRef('http://dbpedia.org/resource/Jon_Snow_(character)'))\n",
      "(rdflib.term.URIRef('http://dbpedia.org/resource/Jon_Snow_(character)'),\n",
      " rdflib.term.URIRef('http://dbpedia.org/ontology/relative'),\n",
      " rdflib.term.URIRef('http://dbpedia.org/resource/Ned_Stark'))\n",
      "(rdflib.term.URIRef('http://dbpedia.org/resource/World_of_A_Song_of_Ice_and_Fire'),\n",
      " rdflib.term.URIRef('http://dbpedia.org/property/people'),\n",
      " rdflib.term.URIRef('http://dbpedia.org/resource/Jon_Snow_(character)'))\n",
      "(rdflib.term.URIRef('http://dbpedia.org/resource/Jon_Snow_(character)'),\n",
      " rdflib.term.URIRef('http://dbpedia.org/property/width'),\n",
      " rdflib.term.Literal('150', datatype=rdflib.term.URIRef('http://www.w3.org/2001/XMLSchema#integer')))\n",
      "(rdflib.term.URIRef('http://dbpedia.org/resource/Ygritte'),\n",
      " rdflib.term.URIRef('http://dbpedia.org/property/significantother'),\n",
      " rdflib.term.URIRef('http://dbpedia.org/resource/Jon_Snow_(character)'))\n",
      "(rdflib.term.URIRef('http://dbpedia.org/resource/Jon_Snow_(character)'),\n",
      " rdflib.term.URIRef('http://purl.org/dc/terms/subject'),\n",
      " rdflib.term.URIRef('http://dbpedia.org/resource/Category:Fictional_characters_introduced_in_1996'))\n",
      "(rdflib.term.URIRef('http://dbpedia.org/resource/Jon_Snow_(character)'),\n",
      " rdflib.term.URIRef('http://dbpedia.org/ontology/relative'),\n",
      " rdflib.term.URIRef('http://dbpedia.org/resource/Viserys_Targaryen'))\n",
      "(rdflib.term.URIRef('http://dbpedia.org/resource/Jon_Snow_(Game_of_Thrones)'),\n",
      " rdflib.term.URIRef('http://dbpedia.org/ontology/wikiPageRedirects'),\n",
      " rdflib.term.URIRef('http://dbpedia.org/resource/Jon_Snow_(character)'))\n",
      "(rdflib.term.URIRef('http://dbpedia.org/resource/Jon_Snow_(character)'),\n",
      " rdflib.term.URIRef('http://www.w3.org/2002/07/owl#sameAs'),\n",
      " rdflib.term.URIRef('http://it.dbpedia.org/resource/Jon_Snow'))\n",
      "(rdflib.term.URIRef('http://dbpedia.org/resource/Jon_Snow_(character)'),\n",
      " rdflib.term.URIRef('http://dbpedia.org/property/significantother'),\n",
      " rdflib.term.URIRef('http://dbpedia.org/resource/Ygritte'))\n",
      "(rdflib.term.URIRef('http://dbpedia.org/resource/Jon_Snow_(character)'),\n",
      " rdflib.term.URIRef('http://www.w3.org/2000/01/rdf-schema#label'),\n",
      " rdflib.term.Literal('Jon Snow (character)', lang='en'))\n",
      "(rdflib.term.URIRef('http://dbpedia.org/resource/Jon_Snow_(character)'),\n",
      " rdflib.term.URIRef('http://purl.org/dc/terms/subject'),\n",
      " rdflib.term.URIRef('http://dbpedia.org/resource/Category:Fictional_lords_and_ladies'))\n",
      "(rdflib.term.URIRef('http://dbpedia.org/resource/Jon_Snow_(character)'),\n",
      " rdflib.term.URIRef('http://www.w3.org/2000/01/rdf-schema#label'),\n",
      " rdflib.term.Literal('جون سنو (شخصية)', lang='ar'))\n",
      "(rdflib.term.URIRef('http://dbpedia.org/resource/Jon_Snow_(character)'),\n",
      " rdflib.term.URIRef('http://www.w3.org/2002/07/owl#sameAs'),\n",
      " rdflib.term.URIRef('http://fr.dbpedia.org/resource/Jon_Snow'))\n",
      "(rdflib.term.URIRef('http://dbpedia.org/resource/Jon_Snow_(character)'),\n",
      " rdflib.term.URIRef('http://dbpedia.org/ontology/firstAppearance'),\n",
      " rdflib.term.Literal(\"'' (1996)\"))\n",
      "(rdflib.term.URIRef('http://dbpedia.org/resource/Jon_Snow_(character)'),\n",
      " rdflib.term.URIRef('http://dbpedia.org/ontology/relative'),\n",
      " rdflib.term.URIRef('http://dbpedia.org/resource/Daenerys_Targaryen'))\n",
      "(rdflib.term.URIRef('http://dbpedia.org/resource/Jon_Snow_(character)'),\n",
      " rdflib.term.URIRef('http://www.w3.org/1999/02/22-rdf-syntax-ns#type'),\n",
      " rdflib.term.URIRef('http://www.ontologydesignpatterns.org/ont/dul/DUL.owl#Agent'))\n",
      "(rdflib.term.URIRef('http://dbpedia.org/resource/Jon_Snow_(character)'),\n",
      " rdflib.term.URIRef('http://purl.org/dc/terms/subject'),\n",
      " rdflib.term.URIRef('http://dbpedia.org/resource/Category:Characters_in_American_novels_of_the_21st_century'))\n",
      "(rdflib.term.URIRef('http://dbpedia.org/resource/Jon_Snow_(character)'),\n",
      " rdflib.term.URIRef('http://www.w3.org/2002/07/owl#sameAs'),\n",
      " rdflib.term.URIRef('http://rdf.freebase.com/ns/m.02ntqy0'))\n",
      "(rdflib.term.URIRef('http://dbpedia.org/resource/Jon_Snow_(character)'),\n",
      " rdflib.term.URIRef('http://dbpedia.org/property/data'),\n",
      " rdflib.term.URIRef('http://dbpedia.org/resource/The_North_(A_Song_of_Ice_and_Fire)'))\n",
      "(rdflib.term.URIRef('http://dbpedia.org/resource/Jon_Snow_(character)'),\n",
      " rdflib.term.URIRef('http://www.w3.org/2000/01/rdf-schema#comment'),\n",
      " rdflib.term.Literal('Jon Nieve (conocido como Jon Snow en la adaptación televisiva de la obra en Hispanoamérica) es un personaje ficticio de la saga de libros Canción de hielo y fuego del escritor estadounidense George R.R. Martin y de su correspondiente adaptación televisiva, Juego de tronos. Se trata de uno de los personajes principales en la serie, teniendo capítulos desde su punto de vista en cuatro de los cinco libros lanzados hasta la fecha. En la adaptación televisiva Game of Thrones es interpretado por el actor inglés Kit Harington.', lang='es'))\n",
      "(rdflib.term.URIRef('http://dbpedia.org/resource/Snow_(disambiguation)'),\n",
      " rdflib.term.URIRef('http://dbpedia.org/ontology/wikiPageDisambiguates'),\n",
      " rdflib.term.URIRef('http://dbpedia.org/resource/Jon_Snow_(character)'))\n",
      "(rdflib.term.URIRef('http://dbpedia.org/resource/Jon_Snow_(character)'),\n",
      " rdflib.term.URIRef('http://dbpedia.org/ontology/relative'),\n",
      " rdflib.term.URIRef('http://dbpedia.org/resource/Arya_Stark'))\n",
      "(rdflib.term.URIRef('http://dbpedia.org/resource/Jon_Snow_(character)'),\n",
      " rdflib.term.URIRef('http://www.w3.org/2002/07/owl#sameAs'),\n",
      " rdflib.term.URIRef('http://yago-knowledge.org/resource/Jon_Snow_(character)'))\n",
      "(rdflib.term.URIRef('http://dbpedia.org/resource/Jon_Snow_(character)'),\n",
      " rdflib.term.URIRef('http://dbpedia.org/ontology/relative'),\n",
      " rdflib.term.URIRef('http://dbpedia.org/resource/House_Stark'))\n",
      "(rdflib.term.URIRef('http://dbpedia.org/resource/Jon_Snow_(character)'),\n",
      " rdflib.term.URIRef('http://dbpedia.org/property/gender'),\n",
      " rdflib.term.Literal('Male', datatype=rdflib.term.URIRef('http://www.w3.org/1999/02/22-rdf-syntax-ns#langString')))\n",
      "(rdflib.term.URIRef('http://dbpedia.org/resource/Jon_Snow_(character)'),\n",
      " rdflib.term.URIRef('http://xmlns.com/foaf/0.1/givenName'),\n",
      " rdflib.term.Literal('Jon', lang='en'))\n",
      "(rdflib.term.URIRef('http://dbpedia.org/resource/Sansa_Stark'),\n",
      " rdflib.term.URIRef('http://dbpedia.org/ontology/relative'),\n",
      " rdflib.term.URIRef('http://dbpedia.org/resource/Jon_Snow_(character)'))\n",
      "(rdflib.term.URIRef('http://dbpedia.org/resource/Jon_Snow_(character)'),\n",
      " rdflib.term.URIRef('http://dbpedia.org/property/title'),\n",
      " rdflib.term.Literal('998', datatype=rdflib.term.URIRef('http://www.w3.org/2001/XMLSchema#integer')))\n",
      "(rdflib.term.URIRef('http://dbpedia.org/resource/Jon_Snow_(character)'),\n",
      " rdflib.term.URIRef('http://www.w3.org/1999/02/22-rdf-syntax-ns#type'),\n",
      " rdflib.term.URIRef('http://dbpedia.org/ontology/Agent'))\n",
      "(rdflib.term.URIRef('http://dbpedia.org/resource/Jon_Snow'),\n",
      " rdflib.term.URIRef('http://dbpedia.org/ontology/wikiPageDisambiguates'),\n",
      " rdflib.term.URIRef('http://dbpedia.org/resource/Jon_Snow_(character)'))\n",
      "(rdflib.term.URIRef('http://dbpedia.org/resource/Jon_Snow_(character)'),\n",
      " rdflib.term.URIRef('http://www.w3.org/2000/01/rdf-schema#label'),\n",
      " rdflib.term.Literal('Jon Snow', lang='it'))\n",
      "(rdflib.term.URIRef('http://dbpedia.org/resource/Jon_Snow_(character)'),\n",
      " rdflib.term.URIRef('http://www.w3.org/2000/01/rdf-schema#label'),\n",
      " rdflib.term.Literal('Jon Nieve', lang='es'))\n",
      "(rdflib.term.URIRef('http://dbpedia.org/resource/Jon_Snow_(character)'),\n",
      " rdflib.term.URIRef('http://dbpedia.org/ontology/relative'),\n",
      " rdflib.term.URIRef('http://dbpedia.org/resource/Robb_Stark'))\n",
      "(rdflib.term.URIRef('http://dbpedia.org/resource/Jon_Snow_(character)'),\n",
      " rdflib.term.URIRef('http://www.w3.org/1999/02/22-rdf-syntax-ns#type'),\n",
      " rdflib.term.URIRef('http://www.w3.org/2002/07/owl#Thing'))\n",
      "(rdflib.term.URIRef('http://dbpedia.org/resource/Jon_Snow_(character)'),\n",
      " rdflib.term.URIRef('http://purl.org/dc/terms/subject'),\n",
      " rdflib.term.URIRef('http://dbpedia.org/resource/Category:Fictional_adoptees'))\n",
      "(rdflib.term.URIRef('http://dbpedia.org/resource/Ned_Stark'),\n",
      " rdflib.term.URIRef('http://dbpedia.org/ontology/relative'),\n",
      " rdflib.term.URIRef('http://dbpedia.org/resource/Jon_Snow_(character)'))\n",
      "(rdflib.term.URIRef('http://dbpedia.org/resource/Jon_Snow_(character)'),\n",
      " rdflib.term.URIRef('http://xmlns.com/foaf/0.1/isPrimaryTopicOf'),\n",
      " rdflib.term.URIRef('http://en.wikipedia.org/wiki/Jon_Snow_(character)'))\n",
      "(rdflib.term.URIRef('http://dbpedia.org/resource/Jon_Snow_(character)'),\n",
      " rdflib.term.URIRef('http://dbpedia.org/property/lbl'),\n",
      " rdflib.term.Literal('Kingdom', datatype=rdflib.term.URIRef('http://www.w3.org/1999/02/22-rdf-syntax-ns#langString')))\n",
      "(rdflib.term.URIRef('http://dbpedia.org/resource/Jon_Snow_(character)'),\n",
      " rdflib.term.URIRef('http://xmlns.com/foaf/0.1/name'),\n",
      " rdflib.term.Literal('Jon Snow', lang='en'))\n",
      "(rdflib.term.URIRef('http://dbpedia.org/resource/Jon_Snow_(character)'),\n",
      " rdflib.term.URIRef('http://www.w3.org/1999/02/22-rdf-syntax-ns#type'),\n",
      " rdflib.term.URIRef('http://dbpedia.org/class/yago/Cognition100023271'))\n",
      "(rdflib.term.URIRef('http://dbpedia.org/resource/Jon_Snow_(character)'),\n",
      " rdflib.term.URIRef('http://dbpedia.org/ontology/firstAppearance'),\n",
      " rdflib.term.Literal('* Video game:'))\n",
      "(rdflib.term.URIRef('http://dbpedia.org/resource/Jon_Snow_(character)'),\n",
      " rdflib.term.URIRef('http://dbpedia.org/ontology/series'),\n",
      " rdflib.term.URIRef('http://dbpedia.org/resource/Game_of_Thrones'))\n",
      "(rdflib.term.URIRef('http://dbpedia.org/resource/Jon_Snow_(character)'),\n",
      " rdflib.term.URIRef('http://www.w3.org/1999/02/22-rdf-syntax-ns#type'),\n",
      " rdflib.term.URIRef('http://www.ontologydesignpatterns.org/ont/dul/DUL.owl#NaturalPerson'))\n",
      "(rdflib.term.URIRef('http://dbpedia.org/resource/Jon_Snow_(character)'),\n",
      " rdflib.term.URIRef('http://dbpedia.org/ontology/firstAppearance'),\n",
      " rdflib.term.Literal('\" (2015)'))\n",
      "(rdflib.term.URIRef('http://dbpedia.org/resource/Jon_Snow_(character)'),\n",
      " rdflib.term.URIRef('http://dbpedia.org/ontology/abstract'),\n",
      " rdflib.term.Literal('جون سنو هو شخصية خيالية من سلسلة روايات الفنتازيا أغنية الجليد والنار للكاتب الأمريكي جورج ر. ر. مارتن والمسلسل التلفزيوني المستند عليها صراع العروش. هو شخصية بارزة في القصة واعتبر أحد \"أروع الإبداعات\" والشخصية الأكثر شعبية للمؤلف من قبل صحيفة نيويورك تايمز. ظهر للمرة الأولى في لعبة العروش في سنة 1996 كابن غير شرعي لنيد ستارك لورد \"وينترفيل\" وهي قلعة قديمة في شمال مملكة خيالية تدعى ويستروس.', lang='ar'))\n",
      "(rdflib.term.URIRef('http://dbpedia.org/resource/Jon_Snow_(character)'),\n",
      " rdflib.term.URIRef('http://purl.org/dc/terms/description'),\n",
      " rdflib.term.Literal('A Song of Ice and Fire character', lang='en'))\n",
      "(rdflib.term.URIRef('http://dbpedia.org/resource/Jon_Snow_(character)'),\n",
      " rdflib.term.URIRef('http://purl.org/linguistics/gold/hypernym'),\n",
      " rdflib.term.URIRef('http://dbpedia.org/resource/Character'))\n",
      "(rdflib.term.URIRef('http://dbpedia.org/resource/Jon_Snow_(character)'),\n",
      " rdflib.term.URIRef('http://dbpedia.org/ontology/relative'),\n",
      " rdflib.term.URIRef('http://dbpedia.org/resource/Lyanna_Stark'))\n",
      "(rdflib.term.URIRef('http://dbpedia.org/resource/Jon_Snow_(character)'),\n",
      " rdflib.term.URIRef('http://dbpedia.org/ontology/relative'),\n",
      " rdflib.term.URIRef('http://dbpedia.org/resource/House_Targaryen'))\n",
      "(rdflib.term.URIRef('http://dbpedia.org/resource/Jon_Targaryen'),\n",
      " rdflib.term.URIRef('http://dbpedia.org/ontology/wikiPageRedirects'),\n",
      " rdflib.term.URIRef('http://dbpedia.org/resource/Jon_Snow_(character)'))\n",
      "(rdflib.term.URIRef('http://dbpedia.org/resource/Jon_Snow_(character)'),\n",
      " rdflib.term.URIRef('http://purl.org/dc/terms/subject'),\n",
      " rdflib.term.URIRef('http://dbpedia.org/resource/Category:Fictional_swordsmen'))\n",
      "(rdflib.term.URIRef('http://dbpedia.org/resource/Viserys_Targaryen'),\n",
      " rdflib.term.URIRef('http://dbpedia.org/ontology/relative'),\n",
      " rdflib.term.URIRef('http://dbpedia.org/resource/Jon_Snow_(character)'))\n",
      "(rdflib.term.URIRef('http://dbpedia.org/resource/Jon_Snow_(character)'),\n",
      " rdflib.term.URIRef('http://dbpedia.org/ontology/lastAppearance'),\n",
      " rdflib.term.URIRef('http://dbpedia.org/resource/A_Dance_with_Dragons'))\n",
      "(rdflib.term.URIRef('http://dbpedia.org/resource/King_Jon_Snow'),\n",
      " rdflib.term.URIRef('http://dbpedia.org/ontology/wikiPageRedirects'),\n",
      " rdflib.term.URIRef('http://dbpedia.org/resource/Jon_Snow_(character)'))\n",
      "(rdflib.term.URIRef('http://en.wikipedia.org/wiki/Jon_Snow_(character)'),\n",
      " rdflib.term.URIRef('http://xmlns.com/foaf/0.1/primaryTopic'),\n",
      " rdflib.term.URIRef('http://dbpedia.org/resource/Jon_Snow_(character)'))\n",
      "(rdflib.term.URIRef('http://dbpedia.org/resource/Jon_Snow_(A_Song_of_Ice_and_Fire)'),\n",
      " rdflib.term.URIRef('http://dbpedia.org/ontology/wikiPageRedirects'),\n",
      " rdflib.term.URIRef('http://dbpedia.org/resource/Jon_Snow_(character)'))\n",
      "(rdflib.term.URIRef('http://dbpedia.org/resource/Jon_Snow_(character)'),\n",
      " rdflib.term.URIRef('http://www.w3.org/1999/02/22-rdf-syntax-ns#type'),\n",
      " rdflib.term.URIRef('http://dbpedia.org/ontology/FictionalCharacter'))\n",
      "(rdflib.term.URIRef('http://dbpedia.org/resource/Jon_Snow_(character)'),\n",
      " rdflib.term.URIRef('http://dbpedia.org/ontology/relative'),\n",
      " rdflib.term.URIRef('http://dbpedia.org/resource/Bran_Stark'))\n",
      "(rdflib.term.URIRef('http://dbpedia.org/resource/Jon_Snow_(character)'),\n",
      " rdflib.term.URIRef('http://www.w3.org/1999/02/22-rdf-syntax-ns#type'),\n",
      " rdflib.term.URIRef('http://dbpedia.org/class/yago/Imagination105625465'))\n",
      "(rdflib.term.URIRef('http://dbpedia.org/resource/Jon_Snow_(character)'),\n",
      " rdflib.term.URIRef('http://www.w3.org/1999/02/22-rdf-syntax-ns#type'),\n",
      " rdflib.term.URIRef('http://www.wikidata.org/entity/Q215627'))\n",
      "(rdflib.term.URIRef('http://dbpedia.org/resource/R+L=J_Theory'),\n",
      " rdflib.term.URIRef('http://dbpedia.org/ontology/wikiPageRedirects'),\n",
      " rdflib.term.URIRef('http://dbpedia.org/resource/Jon_Snow_(character)'))\n",
      "(rdflib.term.URIRef('http://dbpedia.org/resource/Jon_Snow_(character)'),\n",
      " rdflib.term.URIRef('http://dbpedia.org/ontology/relative'),\n",
      " rdflib.term.URIRef('http://dbpedia.org/resource/Sansa_Stark'))\n",
      "(rdflib.term.URIRef('http://dbpedia.org/resource/Jon_Snow_(character)'),\n",
      " rdflib.term.URIRef('http://dbpedia.org/ontology/relative'),\n",
      " rdflib.term.URIRef('http://dbpedia.org/resource/Rhaegar_Targaryen'))\n",
      "(rdflib.term.URIRef('http://dbpedia.org/resource/Jon_Snow_(character)'),\n",
      " rdflib.term.URIRef('http://www.w3.org/2000/01/rdf-schema#comment'),\n",
      " rdflib.term.Literal(\"Jon Snow est l'un des personnages principaux de la saga Le Trône de fer écrite par George R. R. Martin. Il est désigné comme étant le fils illégitime de lord Eddard Stark et d'une femme inconnue. Né en l'an 283, c'est un jeune garçon âgé de quatorze ans au début de la saga, (dix-sept ans dans l'adaptation télévisée) qui, comme la plupart des caractéristiques physiques des Stark, possède des cheveux noirs, le teint brun, des yeux d'un gris noir sombre et une carrure mince et gracieuse. Il ressemble d'ailleurs bien plus à son père que ses demi-frères et demi-sœurs. Jon est accompagné d'un loup géant blanc, un albinos du nom de Fantôme. Les circonstances de la naissance de Jon restent cependant entourées de mystère, ainsi que l'identité réelle de sa mère.\", lang='fr'))\n",
      "(rdflib.term.URIRef('http://dbpedia.org/resource/Daenerys_Targaryen'),\n",
      " rdflib.term.URIRef('http://dbpedia.org/ontology/relative'),\n",
      " rdflib.term.URIRef('http://dbpedia.org/resource/Jon_Snow_(character)'))\n",
      "(rdflib.term.URIRef('http://dbpedia.org/resource/Jon_Snow_(character)'),\n",
      " rdflib.term.URIRef('http://dbpedia.org/ontology/firstAppearance'),\n",
      " rdflib.term.Literal('* \"'))\n",
      "(rdflib.term.URIRef('http://dbpedia.org/resource/Jon_Snow_(character)'),\n",
      " rdflib.term.URIRef('http://dbpedia.org/ontology/abstract'),\n",
      " rdflib.term.Literal('Джон Сноу (англ. Jon Snow) — персонаж серии фэнтези-романов «Песнь Льда и Огня» американского писателя Джорджа Мартина. Является центральным персонажем (ПОВ) серии, от лица которого ведётся часть глав романов. Появляется в книгах «Игра престолов» (1996), «Битва королей» (1998), «Буря мечей» (2000), «Танец с драконами» (2011), присутствуя в четвёртой книге саги «Пир стервятников» (2005) в качестве второстепенного персонажа. Считалось, что Джон умер после пятого сезона сериала и книги «Танец с драконами», однако в шестом сезоне сериала было подтверждено его воскрешение Мелисандрой в книге «Ветра зимы». Один из наиболее популярных персонажей серии по мнению «Нью-Йорк Таймс» и один из главных персонажей цикла по мнению Мартина. В сериальной адаптации серии «Игра Престолов» роль Джона Сноу играет британский актёр Кит Харингтон. В 2012 за эту роль Харингтон был номинирован на премию «Сатурн» в категории «Лучший телеактёр второго плана». Также в составе всего актёрского состава сериала был номинирован на «Премию Гильдии киноактёров США» за лучший актёрский состав в драматическом сериале в 2012, 2014 и 2015 годах.', lang='ru'))\n",
      "(rdflib.term.URIRef('http://dbpedia.org/resource/Jon_Snow_(character)'),\n",
      " rdflib.term.URIRef('http://dbpedia.org/ontology/firstAppearance'),\n",
      " rdflib.term.Literal('The Lost Lords'))\n",
      "(rdflib.term.URIRef('http://dbpedia.org/resource/Jon_Snow_(character)'),\n",
      " rdflib.term.URIRef('http://www.w3.org/2002/07/owl#sameAs'),\n",
      " rdflib.term.URIRef('http://cs.dbpedia.org/resource/Jon_Sníh'))\n",
      "(rdflib.term.URIRef('http://dbpedia.org/resource/Jon_Snow_(character)'),\n",
      " rdflib.term.URIRef('http://dbpedia.org/ontology/firstAppearance'),\n",
      " rdflib.term.Literal(\"* ''\"))\n",
      "(rdflib.term.URIRef('http://dbpedia.org/resource/Jon_Snow_(character)'),\n",
      " rdflib.term.URIRef('http://www.w3.org/1999/02/22-rdf-syntax-ns#type'),\n",
      " rdflib.term.URIRef('http://dbpedia.org/class/yago/FictionalCharacter109587565'))\n",
      "(rdflib.term.URIRef('http://dbpedia.org/resource/R+L=J_fan_theory'),\n",
      " rdflib.term.URIRef('http://dbpedia.org/ontology/wikiPageRedirects'),\n",
      " rdflib.term.URIRef('http://dbpedia.org/resource/Jon_Snow_(character)'))\n",
      "(rdflib.term.URIRef('http://dbpedia.org/resource/Jon_Snow_(character)'),\n",
      " rdflib.term.URIRef('http://dbpedia.org/ontology/firstAppearance'),\n",
      " rdflib.term.Literal('A Game of Thrones'))\n",
      "(rdflib.term.URIRef('http://dbpedia.org/resource/Jon_Snow_(character)'),\n",
      " rdflib.term.URIRef('http://www.w3.org/2002/07/owl#sameAs'),\n",
      " rdflib.term.URIRef('http://es.dbpedia.org/resource/Jon_Nieve'))\n",
      "(rdflib.term.URIRef('http://dbpedia.org/resource/Jon_Snow_(character)'),\n",
      " rdflib.term.URIRef('http://www.w3.org/1999/02/22-rdf-syntax-ns#type'),\n",
      " rdflib.term.URIRef('http://dbpedia.org/class/yago/WikicatFictionalCharactersIntroducedIn1996'))\n",
      "(rdflib.term.URIRef('http://dbpedia.org/resource/Jon_Snow_(character)'),\n",
      " rdflib.term.URIRef('http://dbpedia.org/property/image'),\n",
      " rdflib.term.Literal('Three dragons.png', datatype=rdflib.term.URIRef('http://www.w3.org/1999/02/22-rdf-syntax-ns#langString')))\n",
      "(rdflib.term.URIRef('http://dbpedia.org/resource/Jon_Snow_(character)'),\n",
      " rdflib.term.URIRef('http://www.w3.org/2000/01/rdf-schema#label'),\n",
      " rdflib.term.Literal('Jon Snow', lang='fr'))\n",
      "(rdflib.term.URIRef('http://dbpedia.org/resource/Jon_Snow_(character)'),\n",
      " rdflib.term.URIRef('http://www.w3.org/1999/02/22-rdf-syntax-ns#type'),\n",
      " rdflib.term.URIRef('http://dbpedia.org/class/yago/ImaginaryBeing109483738'))\n",
      "(rdflib.term.URIRef('http://dbpedia.org/resource/Jon_Snow_(character)'),\n",
      " rdflib.term.URIRef('http://dbpedia.org/ontology/abstract'),\n",
      " rdflib.term.Literal('Jon Nieve (conocido como Jon Snow en la adaptación televisiva de la obra en Hispanoamérica) es un personaje ficticio de la saga de libros Canción de hielo y fuego del escritor estadounidense George R.R. Martin y de su correspondiente adaptación televisiva, Juego de tronos. Se trata de uno de los personajes principales en la serie, teniendo capítulos desde su punto de vista en cuatro de los cinco libros lanzados hasta la fecha. Aparecido en el primer volumen de la serie, Juego de Tronos, Jon aparece como el hijo ilegítimo de Eddard Stark, Señor de Invernalia y Guardián del Norte. Debido a que en la obra de Martin los bastardos no poseen ningún derecho hereditario, Jon decidió unirse a la Guardia de la Noche, una hermandad de hombres de la cual toma parte Benjen Stark, el hermano menor de su padre. Ésta hermandad custodia el Muro, la frontera que separa el continente de Poniente de las tierras heladas del norte donde viven los salvajes, liderados por Mance Rayder. En la adaptación televisiva Game of Thrones es interpretado por el actor inglés Kit Harington.', lang='es'))\n",
      "(rdflib.term.URIRef('http://dbpedia.org/resource/Jon_Snow_(character)'),\n",
      " rdflib.term.URIRef('http://dbpedia.org/ontology/wikiPageID'),\n",
      " rdflib.term.Literal('976141', datatype=rdflib.term.URIRef('http://www.w3.org/2001/XMLSchema#integer')))\n",
      "(rdflib.term.URIRef('http://dbpedia.org/resource/Jon_Snow_(character)'),\n",
      " rdflib.term.URIRef('http://www.w3.org/1999/02/22-rdf-syntax-ns#type'),\n",
      " rdflib.term.URIRef('http://www.wikidata.org/entity/Q5'))\n",
      "(rdflib.term.URIRef('http://dbpedia.org/resource/Jon_Snow_(character)'),\n",
      " rdflib.term.URIRef('http://dbpedia.org/ontology/firstAppearance'),\n",
      " rdflib.term.Literal('Winter Is Coming'))\n",
      "(rdflib.term.URIRef('http://dbpedia.org/resource/Jon_Snow_(character)'),\n",
      " rdflib.term.URIRef('http://www.w3.org/1999/02/22-rdf-syntax-ns#type'),\n",
      " rdflib.term.URIRef('http://dbpedia.org/class/yago/PsychologicalFeature100023100'))\n",
      "(rdflib.term.URIRef('http://dbpedia.org/resource/Jon_Snow_(character)'),\n",
      " rdflib.term.URIRef('http://dbpedia.org/ontology/relative'),\n",
      " rdflib.term.URIRef('http://dbpedia.org/resource/Aegon_Targaryen'))\n",
      "(rdflib.term.URIRef('http://dbpedia.org/resource/Jon_Snow_(character)'),\n",
      " rdflib.term.URIRef('http://dbpedia.org/ontology/creator'),\n",
      " rdflib.term.URIRef('http://dbpedia.org/resource/George_R._R._Martin'))\n",
      "(rdflib.term.URIRef('http://dbpedia.org/resource/Jon_Snow_(character)'),\n",
      " rdflib.term.URIRef('http://dbpedia.org/property/width'),\n",
      " rdflib.term.Literal('140', datatype=rdflib.term.URIRef('http://www.w3.org/2001/XMLSchema#integer')))\n",
      "(rdflib.term.URIRef('http://dbpedia.org/resource/Jon_Snow_(character)'),\n",
      " rdflib.term.URIRef('http://www.w3.org/1999/02/22-rdf-syntax-ns#type'),\n",
      " rdflib.term.URIRef('http://dbpedia.org/ontology/Person'))\n",
      "(rdflib.term.URIRef('http://dbpedia.org/resource/Jon_Snow_(character)'),\n",
      " rdflib.term.URIRef('http://www.w3.org/2002/07/owl#sameAs'),\n",
      " rdflib.term.URIRef('http://dbpedia.org/resource/Jon_Snow_(character)'))\n",
      "(rdflib.term.URIRef('http://dbpedia.org/resource/Jon_Snow_(character)'),\n",
      " rdflib.term.URIRef('http://www.w3.org/2002/07/owl#sameAs'),\n",
      " rdflib.term.URIRef('http://wikidata.dbpedia.org/resource/Q3183235'))\n",
      "(rdflib.term.URIRef('http://dbpedia.org/resource/Jon_Snow_(character)'),\n",
      " rdflib.term.URIRef('http://www.w3.org/1999/02/22-rdf-syntax-ns#type'),\n",
      " rdflib.term.URIRef('http://schema.org/Person'))\n",
      "(rdflib.term.URIRef('http://dbpedia.org/resource/Jon_Snow_(character)'),\n",
      " rdflib.term.URIRef('http://purl.org/dc/terms/subject'),\n",
      " rdflib.term.URIRef('http://dbpedia.org/resource/Category:Characters_in_American_novels_of_the_20th_century'))\n",
      "(rdflib.term.URIRef('http://dbpedia.org/resource/Jon_Snow_(character)'),\n",
      " rdflib.term.URIRef('http://dbpedia.org/ontology/abstract'),\n",
      " rdflib.term.Literal(\"Jon Snow est l'un des personnages principaux de la saga Le Trône de fer écrite par George R. R. Martin. Il est désigné comme étant le fils illégitime de lord Eddard Stark et d'une femme inconnue. Né en l'an 283, c'est un jeune garçon âgé de quatorze ans au début de la saga, (dix-sept ans dans l'adaptation télévisée) qui, comme la plupart des caractéristiques physiques des Stark, possède des cheveux noirs, le teint brun, des yeux d'un gris noir sombre et une carrure mince et gracieuse. Il ressemble d'ailleurs bien plus à son père que ses demi-frères et demi-sœurs. Jon est accompagné d'un loup géant blanc, un albinos du nom de Fantôme. Les circonstances de la naissance de Jon restent cependant entourées de mystère, ainsi que l'identité réelle de sa mère.\", lang='fr'))\n",
      "(rdflib.term.URIRef('http://dbpedia.org/resource/Jon_Snow_(character)'),\n",
      " rdflib.term.URIRef('http://dbpedia.org/ontology/wikiPageRevisionID'),\n",
      " rdflib.term.Literal('744063250', datatype=rdflib.term.URIRef('http://www.w3.org/2001/XMLSchema#integer')))\n",
      "(rdflib.term.URIRef('http://dbpedia.org/resource/Robb_Stark'),\n",
      " rdflib.term.URIRef('http://dbpedia.org/ontology/relative'),\n",
      " rdflib.term.URIRef('http://dbpedia.org/resource/Jon_Snow_(character)'))\n",
      "(rdflib.term.URIRef('http://dbpedia.org/resource/Jon_Snow_(character)'),\n",
      " rdflib.term.URIRef('http://www.w3.org/1999/02/22-rdf-syntax-ns#type'),\n",
      " rdflib.term.URIRef('http://dbpedia.org/class/yago/Ability105616246'))\n",
      "(rdflib.term.URIRef('http://dbpedia.org/resource/Jon_Snow_(character)'),\n",
      " rdflib.term.URIRef('http://dbpedia.org/property/image'),\n",
      " rdflib.term.Literal('Stark Coat of Arms.png', datatype=rdflib.term.URIRef('http://www.w3.org/1999/02/22-rdf-syntax-ns#langString')))\n",
      "(rdflib.term.URIRef('http://dbpedia.org/resource/Jon_Snow_(character)'),\n",
      " rdflib.term.URIRef('http://www.w3.org/2000/01/rdf-schema#comment'),\n",
      " rdflib.term.Literal('جون سنو هو شخصية خيالية من سلسلة روايات الفنتازيا أغنية الجليد والنار للكاتب الأمريكي جورج ر. ر. مارتن والمسلسل التلفزيوني المستند عليها صراع العروش. هو شخصية بارزة في القصة واعتبر أحد \"أروع الإبداعات\" والشخصية الأكثر شعبية للمؤلف من قبل صحيفة نيويورك تايمز. ظهر للمرة الأولى في لعبة العروش في سنة 1996 كابن غير شرعي لنيد ستارك لورد \"وينترفيل\" وهي قلعة قديمة في شمال مملكة خيالية تدعى ويستروس.', lang='ar'))\n",
      "(rdflib.term.URIRef('http://dbpedia.org/resource/Arya_Stark'),\n",
      " rdflib.term.URIRef('http://dbpedia.org/ontology/relative'),\n",
      " rdflib.term.URIRef('http://dbpedia.org/resource/Jon_Snow_(character)'))\n",
      "(rdflib.term.URIRef('http://dbpedia.org/resource/Jon_Snow_(character)'),\n",
      " rdflib.term.URIRef('http://dbpedia.org/property/title'),\n",
      " rdflib.term.Literal('King in the North', datatype=rdflib.term.URIRef('http://www.w3.org/1999/02/22-rdf-syntax-ns#langString')))\n",
      "(rdflib.term.URIRef('http://dbpedia.org/resource/Jon_Snow_(character)'),\n",
      " rdflib.term.URIRef('http://dbpedia.org/property/title'),\n",
      " rdflib.term.Literal(\"the Night's Watch\", datatype=rdflib.term.URIRef('http://www.w3.org/1999/02/22-rdf-syntax-ns#langString')))\n",
      "(rdflib.term.URIRef('http://dbpedia.org/resource/Jon_Snow_(character)'),\n",
      " rdflib.term.URIRef('http://dbpedia.org/property/footer'),\n",
      " rdflib.term.Literal(\"Coat of arms of the Night's Watch, House Stark and House Targaryen.\", datatype=rdflib.term.URIRef('http://www.w3.org/1999/02/22-rdf-syntax-ns#langString')))\n",
      "(rdflib.term.URIRef('http://dbpedia.org/resource/Jon_Snow_(character)'),\n",
      " rdflib.term.URIRef('http://www.w3.org/1999/02/22-rdf-syntax-ns#type'),\n",
      " rdflib.term.URIRef('http://www.wikidata.org/entity/Q24229398'))\n",
      "(rdflib.term.URIRef('http://dbpedia.org/resource/Rickon_Stark'),\n",
      " rdflib.term.URIRef('http://dbpedia.org/ontology/relative'),\n",
      " rdflib.term.URIRef('http://dbpedia.org/resource/Jon_Snow_(character)'))\n",
      "(rdflib.term.URIRef('http://dbpedia.org/resource/Jon_Snow_(character)'),\n",
      " rdflib.term.URIRef('http://xmlns.com/foaf/0.1/surname'),\n",
      " rdflib.term.Literal('Snow', lang='en'))\n",
      "(rdflib.term.URIRef('http://dbpedia.org/resource/Jon_Snow_(character)'),\n",
      " rdflib.term.URIRef('http://dbpedia.org/ontology/firstAppearance'),\n",
      " rdflib.term.Literal('* Television:'))\n",
      "(rdflib.term.URIRef('http://dbpedia.org/resource/R+L=J_theory'),\n",
      " rdflib.term.URIRef('http://dbpedia.org/ontology/wikiPageRedirects'),\n",
      " rdflib.term.URIRef('http://dbpedia.org/resource/Jon_Snow_(character)'))\n",
      "(rdflib.term.URIRef('http://dbpedia.org/resource/Jon_Snow_(character)'),\n",
      " rdflib.term.URIRef('http://dbpedia.org/ontology/series'),\n",
      " rdflib.term.URIRef('http://dbpedia.org/resource/A_Song_of_Ice_and_Fire'))\n",
      "(rdflib.term.URIRef('http://dbpedia.org/resource/Jon_Snow_(character)'),\n",
      " rdflib.term.URIRef('http://dbpedia.org/ontology/portrayer'),\n",
      " rdflib.term.URIRef('http://dbpedia.org/resource/Kit_Harington'))\n",
      "(rdflib.term.URIRef('http://dbpedia.org/resource/Jon_Snow_(character)'),\n",
      " rdflib.term.URIRef('http://dbpedia.org/ontology/abstract'),\n",
      " rdflib.term.Literal('Jon Snow (pronuncia /ˈʤɒn ˈsnoʊ/) è un personaggio della saga letteraria di genere fantasy medievale Cronache del ghiaccio e del fuoco, creata dallo scrittore statunitense George R. R. Martin. Jon è uno dei personaggi principali della saga e appare sin dal primo romanzo, A Game of Thrones.', lang='it'))\n",
      "(rdflib.term.URIRef('http://dbpedia.org/resource/Jon_Snow_(character)'),\n",
      " rdflib.term.URIRef('http://dbpedia.org/ontology/alias'),\n",
      " rdflib.term.Literal('King CrowThe White Wolf', lang='en'))\n",
      "(rdflib.term.URIRef('http://dbpedia.org/resource/Bran_Stark'),\n",
      " rdflib.term.URIRef('http://dbpedia.org/ontology/relative'),\n",
      " rdflib.term.URIRef('http://dbpedia.org/resource/Jon_Snow_(character)'))\n",
      "(rdflib.term.URIRef('http://dbpedia.org/resource/Jon_Snow_(character)'),\n",
      " rdflib.term.URIRef('http://dbpedia.org/property/image'),\n",
      " rdflib.term.Literal('A Song of Ice and Fire arms of Night Watch.svg', datatype=rdflib.term.URIRef('http://www.w3.org/1999/02/22-rdf-syntax-ns#langString')))\n",
      "(rdflib.term.URIRef('http://dbpedia.org/resource/R+L=J'),\n",
      " rdflib.term.URIRef('http://dbpedia.org/ontology/wikiPageRedirects'),\n",
      " rdflib.term.URIRef('http://dbpedia.org/resource/Jon_Snow_(character)'))\n",
      "(rdflib.term.URIRef('http://dbpedia.org/resource/Jon_Snow_(character)'),\n",
      " rdflib.term.URIRef('http://dbpedia.org/ontology/alias'),\n",
      " rdflib.term.Literal('Lord Snow', lang='en'))\n",
      "(rdflib.term.URIRef('http://dbpedia.org/resource/Jon_Snow_(character)'),\n",
      " rdflib.term.URIRef('http://dbpedia.org/property/caption'),\n",
      " rdflib.term.Literal('Kit Harington as Jon Snow', datatype=rdflib.term.URIRef('http://www.w3.org/1999/02/22-rdf-syntax-ns#langString')))\n",
      "(rdflib.term.URIRef('http://dbpedia.org/resource/Jon_Stark'),\n",
      " rdflib.term.URIRef('http://dbpedia.org/ontology/wikiPageRedirects'),\n",
      " rdflib.term.URIRef('http://dbpedia.org/resource/Jon_Snow_(character)'))\n",
      "(rdflib.term.URIRef('http://dbpedia.org/resource/Jon_Snow_(character)'),\n",
      " rdflib.term.URIRef('http://www.w3.org/2002/07/owl#sameAs'),\n",
      " rdflib.term.URIRef('http://www.wikidata.org/entity/Q3183235'))\n",
      "(rdflib.term.URIRef('http://dbpedia.org/resource/Jon_Snow_(character)'),\n",
      " rdflib.term.URIRef('http://purl.org/dc/terms/subject'),\n",
      " rdflib.term.URIRef('http://dbpedia.org/resource/Category:Fictional_orphans'))\n",
      "(rdflib.term.URIRef('http://dbpedia.org/resource/Jon_Snow_(character)'),\n",
      " rdflib.term.URIRef('http://www.w3.org/ns/prov#wasDerivedFrom'),\n",
      " rdflib.term.URIRef('http://en.wikipedia.org/wiki/Jon_Snow_(character)?oldid=744063250'))\n",
      "(rdflib.term.URIRef('http://dbpedia.org/resource/Jon_Snow_(character)'),\n",
      " rdflib.term.URIRef('http://dbpedia.org/ontology/firstAppearance'),\n",
      " rdflib.term.Literal('* Novel:'))\n",
      "(rdflib.term.URIRef('http://dbpedia.org/resource/Jon_Snow_(character)'),\n",
      " rdflib.term.URIRef('http://www.w3.org/2000/01/rdf-schema#comment'),\n",
      " rdflib.term.Literal('Jon Snow is a fictional character in the A Song of Ice and Fire series of fantasy novels by American author George R. R. Martin, and its television adaptation Game of Thrones. He is a prominent point of view character in the novels, and has been called one of the author\\'s \"finest creations\" and most popular characters by The New York Times. Jon is a main character in the TV series, and his storyline in the 2015 season 5 finale generated a strong reaction among viewers. Speculation about the character\\'s parentage has also been a popular topic of discussion among fans of both the books and the TV series.', lang='en'))\n",
      "(rdflib.term.URIRef('http://dbpedia.org/resource/Jon_Snow_(character)'),\n",
      " rdflib.term.URIRef('http://www.w3.org/2000/01/rdf-schema#comment'),\n",
      " rdflib.term.Literal('Джон Сноу (англ. Jon Snow) — персонаж серии фэнтези-романов «Песнь Льда и Огня» американского писателя Джорджа Мартина. Является центральным персонажем (ПОВ) серии, от лица которого ведётся часть глав романов. Появляется в книгах «Игра престолов» (1996), «Битва королей» (1998), «Буря мечей» (2000), «Танец с драконами» (2011), присутствуя в четвёртой книге саги «Пир стервятников» (2005) в качестве второстепенного персонажа. Считалось, что Джон умер после пятого сезона сериала и книги «Танец с драконами», однако в шестом сезоне сериала было подтверждено его воскрешение Мелисандрой в книге «Ветра зимы».', lang='ru'))\n",
      "(rdflib.term.URIRef('http://dbpedia.org/resource/Jon_Snow_(character)'),\n",
      " rdflib.term.URIRef('http://xmlns.com/foaf/0.1/gender'),\n",
      " rdflib.term.Literal('male', lang='en'))\n",
      "(rdflib.term.URIRef('http://dbpedia.org/resource/Jon_Snow_(character)'),\n",
      " rdflib.term.URIRef('http://www.w3.org/1999/02/22-rdf-syntax-ns#type'),\n",
      " rdflib.term.URIRef('http://xmlns.com/foaf/0.1/Person'))\n",
      "(rdflib.term.URIRef('http://dbpedia.org/resource/Jon_Snow_(character)'),\n",
      " rdflib.term.URIRef('http://www.w3.org/1999/02/22-rdf-syntax-ns#type'),\n",
      " rdflib.term.URIRef('http://dbpedia.org/class/yago/Creativity105624700'))\n",
      "(rdflib.term.URIRef('http://dbpedia.org/resource/Jon_Snow_(character)'),\n",
      " rdflib.term.URIRef('http://purl.org/dc/terms/subject'),\n",
      " rdflib.term.URIRef('http://dbpedia.org/resource/Category:A_Song_of_Ice_and_Fire_characters'))\n",
      "(rdflib.term.URIRef('http://dbpedia.org/resource/Jon_Snow_(character)'),\n",
      " rdflib.term.URIRef('http://dbpedia.org/ontology/relative'),\n",
      " rdflib.term.URIRef('http://dbpedia.org/resource/Benjen_Stark'))\n",
      "(rdflib.term.URIRef('http://dbpedia.org/resource/Jon_Snow_(character)'),\n",
      " rdflib.term.URIRef('http://dbpedia.org/property/width'),\n",
      " rdflib.term.Literal('125', datatype=rdflib.term.URIRef('http://www.w3.org/2001/XMLSchema#integer')))\n",
      "(rdflib.term.URIRef('http://dbpedia.org/resource/Jon_Snow_(character)'),\n",
      " rdflib.term.URIRef('http://www.w3.org/2000/01/rdf-schema#seeAlso'),\n",
      " rdflib.term.URIRef('http://dbpedia.org/resource/Family_tree_of_House_Targaryen'))\n",
      "(rdflib.term.URIRef('http://dbpedia.org/resource/Jon_Snow_(character)'),\n",
      " rdflib.term.URIRef('http://dbpedia.org/ontology/abstract'),\n",
      " rdflib.term.Literal('Jon Snow is a fictional character in the A Song of Ice and Fire series of fantasy novels by American author George R. R. Martin, and its television adaptation Game of Thrones. He is a prominent point of view character in the novels, and has been called one of the author\\'s \"finest creations\" and most popular characters by The New York Times. Jon is a main character in the TV series, and his storyline in the 2015 season 5 finale generated a strong reaction among viewers. Speculation about the character\\'s parentage has also been a popular topic of discussion among fans of both the books and the TV series. Jon is introduced in 1996\\'s A Game of Thrones as the illegitimate son of Ned Stark, the honorable lord of Winterfell, an ancient fortress in the North of the fictional kingdom of Westeros. Knowing his prospects are limited by his status, Jon joins the Night\\'s Watch, who guard the far northern borders from the wildlings who live beyond The Wall. As the rest of the Starks face grave adversity, Jon finds himself honor bound to remain with the Watch. In A Clash of Kings (1998), he joins a scouting party investigating the growing threat from the otherworldly \"Others\" beyond the Wall, and manages to infiltrate the wildlings. Jon learns of their plans to invade Westeros in A Storm of Swords (2000), and begins to fall in love with the fierce wildling woman Ygritte. He betrays them—and Ygritte—before they can attack, but the Night Watch\\'s victory comes at a heavy price for Jon. Now the Lord Commander of the Watch, he appears briefly in 2005\\'s A Feast for Crows. Jon returns as a prominent character in a A Dance with Dragons (2011), working to negotiate an alliance between the Night\\'s Watch and the wildlings. The growing animosity he has attracted from among the Watch finally catches up with him, and he is forced to face the dire consequences. Jon is portrayed by Kit Harington on the HBO series Game of Thrones. His storyline follows the character\\'s plot arc from the novel series, though season 6 of the TV adaptation continued on from the events of Martin\\'s latest published installment. Harington was nominated for a Primetime Emmy Award for Outstanding Supporting Actor in a Drama Series for the role in 2016. He was also nominated for a Saturn Award for Best Supporting Actor on Television in 2012 and 2016. He and the rest of the cast were nominated for Screen Actors Guild Awards for Outstanding Performance by an Ensemble in a Drama Series in 2012, 2014, 2015 and 2016.', lang='en'))\n",
      "(rdflib.term.URIRef('http://dbpedia.org/resource/Jon_Snow_(character)'),\n",
      " rdflib.term.URIRef('http://dbpedia.org/ontology/firstAppearance'),\n",
      " rdflib.term.Literal('\" (2011)'))\n",
      "(rdflib.term.URIRef('http://dbpedia.org/resource/Jon_Snow_(character)'),\n",
      " rdflib.term.URIRef('http://www.w3.org/1999/02/22-rdf-syntax-ns#type'),\n",
      " rdflib.term.URIRef('http://www.wikidata.org/entity/Q95074'))\n",
      "(rdflib.term.URIRef('http://dbpedia.org/resource/Jon_Snow_(character)'),\n",
      " rdflib.term.URIRef('http://www.w3.org/1999/02/22-rdf-syntax-ns#type'),\n",
      " rdflib.term.URIRef('http://dbpedia.org/class/yago/Abstraction100002137'))\n"
     ]
    }
   ],
   "source": [
    "# Parse directly from a string\n",
    "remote_g = Graph()\n",
    "\n",
    "remote_g.parse(URIRef('http://dbpedia.org/resource/Jon_Snow_(character)'))\n",
    "for stmt in remote_g:\n",
    "    pprint.pprint(stmt)"
   ]
  }
 ],
 "metadata": {
  "kernelspec": {
   "display_name": "Python 3",
   "language": "python",
   "name": "python3"
  },
  "language_info": {
   "codemirror_mode": {
    "name": "ipython",
    "version": 3
   },
   "file_extension": ".py",
   "mimetype": "text/x-python",
   "name": "python",
   "nbconvert_exporter": "python",
   "pygments_lexer": "ipython3",
   "version": "3.7.4"
  }
 },
 "nbformat": 4,
 "nbformat_minor": 2
}
